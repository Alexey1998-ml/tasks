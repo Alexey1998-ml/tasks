{
 "cells": [
  {
   "cell_type": "markdown",
   "metadata": {},
   "source": [
    "В рамках данных ограничейний наилучший способ, который я вижу - пройтись по каждой строке файла и проверять соответствие параметров. Это работает долго, но не требует больших затрат памяти."
   ]
  },
  {
   "cell_type": "code",
   "execution_count": 13,
   "metadata": {},
   "outputs": [],
   "source": [
    "def get_recommendations (sku, propability = 0):\n",
    "    results = []\n",
    "    with open ('recommends.csv', 'r') as file:\n",
    "        for line in file:\n",
    "            line = line.split(',')\n",
    "            if line[0] == sku and float(line[2]) > propability:\n",
    "                results.append(line[1])\n",
    "    return results"
   ]
  },
  {
   "cell_type": "code",
   "execution_count": 16,
   "metadata": {},
   "outputs": [
    {
     "name": "stdout",
     "output_type": "stream",
     "text": [
      "Wall time: 20.3 s\n"
     ]
    },
    {
     "data": {
      "text/plain": [
       "['LgGNNDR7Vl',\n",
       " 'mLGlFta6vr',\n",
       " 'ksoqATLU3q',\n",
       " 'wYgx4gNA8N',\n",
       " 'klTPb8MaPT',\n",
       " 'VYWtQfIw2o',\n",
       " 'FL8uKQ71aj',\n",
       " 'kLKQ5aYQ4x',\n",
       " 'mvXZyvTD8M',\n",
       " 'HOBWufKPQd',\n",
       " 'CQ9xXd1K1M',\n",
       " 'BPcMOhIax1',\n",
       " 'ua5OVplKLk',\n",
       " 'PKbq09YNsp',\n",
       " 'X4ozUZh2wk',\n",
       " 'eWktrUXixw',\n",
       " 'rQ8OPSOIes',\n",
       " 'sK2RIPFZ3z',\n",
       " 'g2fIV64GHI',\n",
       " 'IYSSQIlase',\n",
       " 'PXrc90Ddlh',\n",
       " 'LaB96mR3qw',\n",
       " '0rOFpWfWE0',\n",
       " 'prstkVJxEQ',\n",
       " 'ihiZGUIa3L',\n",
       " 'yj2Pa9SUKl',\n",
       " 'POL5ddfPjq',\n",
       " 'qPUduEGKUe',\n",
       " 'rxUqVq3ZEL',\n",
       " 'iwNVCUXg9Y',\n",
       " '5XTltK0NNv',\n",
       " 'nQvVcJ3ftW',\n",
       " 'Wikm9wTdzW',\n",
       " '56iVpFodKy',\n",
       " 'CaJ1Y33bgg',\n",
       " 'd5DlwGhaCh',\n",
       " 'aPPsicWTQm',\n",
       " '1HLh2DAzA1',\n",
       " 'woT0PGwkDn',\n",
       " 'jxuP7GZgUb',\n",
       " 'uEtX0moHVO',\n",
       " 'iH8r2j0AfA',\n",
       " 'mPDpanSZRP',\n",
       " 'imyq1fMlUq',\n",
       " 'RXfKsPaLWa',\n",
       " '2rVJ5NuMcD',\n",
       " '6GH5DziXeo',\n",
       " 'zmEYaHYHw2',\n",
       " 'WVnI3JvhRC',\n",
       " 'Lq5WClRuE7']"
      ]
     },
     "execution_count": 16,
     "metadata": {},
     "output_type": "execute_result"
    }
   ],
   "source": [
    "%%time\n",
    "get_recommendations('WP260qJAo6')"
   ]
  },
  {
   "cell_type": "markdown",
   "metadata": {},
   "source": [
    "Поскольку данную операцию приходится повторять часто, то самый простой способ, который повысит эффективность работы - загрузить весь csv в pandas DataFrame"
   ]
  },
  {
   "cell_type": "code",
   "execution_count": 9,
   "metadata": {},
   "outputs": [],
   "source": [
    "import pandas as pd\n",
    "class Recommends:\n",
    "    def __init__(self, PATH):\n",
    "        self.df = pd.read_csv(PATH, names = ['sku', 'recom', 'propability'],  nrows = 100)\n",
    "    \n",
    "    def get_recommends(self, sku, propability = 0):\n",
    "        return list(self.df[(self.df['sku'] == sku) & (self.df['propability'] > propability)]['recom'])"
   ]
  },
  {
   "cell_type": "code",
   "execution_count": 10,
   "metadata": {},
   "outputs": [],
   "source": [
    "recommends = Recommends('recommends.csv')"
   ]
  },
  {
   "cell_type": "code",
   "execution_count": 11,
   "metadata": {},
   "outputs": [
    {
     "data": {
      "text/plain": [
       "['LgGNNDR7Vl']"
      ]
     },
     "execution_count": 11,
     "metadata": {},
     "output_type": "execute_result"
    }
   ],
   "source": [
    "recommends.get_recommends('WP260qJAo6')"
   ]
  },
  {
   "cell_type": "markdown",
   "metadata": {},
   "source": [
    "Другой вариант - преобразовать весь csv файл в большой словарь по типу:\n",
    "{sku1: [(recom1, propability1), (recom1, propability1) ..], sku2: [(recom1, propability1), (recom1, propability1) ..]}"
   ]
  },
  {
   "cell_type": "markdown",
   "metadata": {},
   "source": [
    "В двух предыдущих способах поиск будет происходить за константное время, поскольку данные будут храниться в виде хэш таблиц, однако будут занимать больше памяти, поэтому наиболее рационально использовать базу данных и обращаться к ней с запросами типа:\n",
    "\n",
    "SELECT recom FROM reccomends\n",
    "\n",
    "WHERE sku = current_sku AND propability > current_propability;"
   ]
  }
 ],
 "metadata": {
  "kernelspec": {
   "display_name": "Python 3",
   "language": "python",
   "name": "python3"
  },
  "language_info": {
   "codemirror_mode": {
    "name": "ipython",
    "version": 3
   },
   "file_extension": ".py",
   "mimetype": "text/x-python",
   "name": "python",
   "nbconvert_exporter": "python",
   "pygments_lexer": "ipython3",
   "version": "3.7.4"
  }
 },
 "nbformat": 4,
 "nbformat_minor": 2
}
