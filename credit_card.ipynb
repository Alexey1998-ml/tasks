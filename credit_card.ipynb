{
 "cells": [
  {
   "cell_type": "code",
   "execution_count": 1,
   "metadata": {},
   "outputs": [],
   "source": [
    "import pandas as pd\n",
    "import matplotlib.pyplot as plt\n",
    "import numpy as np\n",
    "from catboost import CatBoostClassifier\n",
    "from sklearn.metrics import roc_auc_score, accuracy_score"
   ]
  },
  {
   "cell_type": "markdown",
   "metadata": {},
   "source": [
    "# Загрузка данных"
   ]
  },
  {
   "cell_type": "code",
   "execution_count": 2,
   "metadata": {},
   "outputs": [],
   "source": [
    "path_to_apply = 'appl.csv'\n",
    "path_to_balance = 'balance.csv'\n",
    "pd.set_option('display.max_columns', 100)"
   ]
  },
  {
   "cell_type": "code",
   "execution_count": 3,
   "metadata": {},
   "outputs": [],
   "source": [
    "application = pd.read_csv(path_to_apply) "
   ]
  },
  {
   "cell_type": "code",
   "execution_count": 4,
   "metadata": {},
   "outputs": [],
   "source": [
    "balances = pd.read_csv(path_to_balance) "
   ]
  },
  {
   "cell_type": "code",
   "execution_count": 5,
   "metadata": {},
   "outputs": [
    {
     "data": {
      "text/html": [
       "<div>\n",
       "<style scoped>\n",
       "    .dataframe tbody tr th:only-of-type {\n",
       "        vertical-align: middle;\n",
       "    }\n",
       "\n",
       "    .dataframe tbody tr th {\n",
       "        vertical-align: top;\n",
       "    }\n",
       "\n",
       "    .dataframe thead th {\n",
       "        text-align: right;\n",
       "    }\n",
       "</style>\n",
       "<table border=\"1\" class=\"dataframe\">\n",
       "  <thead>\n",
       "    <tr style=\"text-align: right;\">\n",
       "      <th></th>\n",
       "      <th>ID</th>\n",
       "      <th>MONTHS_BALANCE</th>\n",
       "      <th>STATUS</th>\n",
       "    </tr>\n",
       "  </thead>\n",
       "  <tbody>\n",
       "    <tr>\n",
       "      <td>0</td>\n",
       "      <td>5001711</td>\n",
       "      <td>0</td>\n",
       "      <td>X</td>\n",
       "    </tr>\n",
       "    <tr>\n",
       "      <td>1</td>\n",
       "      <td>5001711</td>\n",
       "      <td>-1</td>\n",
       "      <td>0</td>\n",
       "    </tr>\n",
       "    <tr>\n",
       "      <td>2</td>\n",
       "      <td>5001711</td>\n",
       "      <td>-2</td>\n",
       "      <td>0</td>\n",
       "    </tr>\n",
       "    <tr>\n",
       "      <td>3</td>\n",
       "      <td>5001711</td>\n",
       "      <td>-3</td>\n",
       "      <td>0</td>\n",
       "    </tr>\n",
       "    <tr>\n",
       "      <td>4</td>\n",
       "      <td>5001712</td>\n",
       "      <td>0</td>\n",
       "      <td>C</td>\n",
       "    </tr>\n",
       "  </tbody>\n",
       "</table>\n",
       "</div>"
      ],
      "text/plain": [
       "        ID  MONTHS_BALANCE STATUS\n",
       "0  5001711               0      X\n",
       "1  5001711              -1      0\n",
       "2  5001711              -2      0\n",
       "3  5001711              -3      0\n",
       "4  5001712               0      C"
      ]
     },
     "execution_count": 5,
     "metadata": {},
     "output_type": "execute_result"
    }
   ],
   "source": [
    "balances.head()"
   ]
  },
  {
   "cell_type": "code",
   "execution_count": 6,
   "metadata": {},
   "outputs": [
    {
     "data": {
      "text/html": [
       "<div>\n",
       "<style scoped>\n",
       "    .dataframe tbody tr th:only-of-type {\n",
       "        vertical-align: middle;\n",
       "    }\n",
       "\n",
       "    .dataframe tbody tr th {\n",
       "        vertical-align: top;\n",
       "    }\n",
       "\n",
       "    .dataframe thead th {\n",
       "        text-align: right;\n",
       "    }\n",
       "</style>\n",
       "<table border=\"1\" class=\"dataframe\">\n",
       "  <thead>\n",
       "    <tr style=\"text-align: right;\">\n",
       "      <th></th>\n",
       "      <th>ID</th>\n",
       "      <th>CODE_GENDER</th>\n",
       "      <th>FLAG_OWN_CAR</th>\n",
       "      <th>FLAG_OWN_REALTY</th>\n",
       "      <th>CNT_CHILDREN</th>\n",
       "      <th>AMT_INCOME_TOTAL</th>\n",
       "      <th>NAME_INCOME_TYPE</th>\n",
       "      <th>NAME_EDUCATION_TYPE</th>\n",
       "      <th>NAME_FAMILY_STATUS</th>\n",
       "      <th>NAME_HOUSING_TYPE</th>\n",
       "      <th>DAYS_BIRTH</th>\n",
       "      <th>DAYS_EMPLOYED</th>\n",
       "      <th>FLAG_MOBIL</th>\n",
       "      <th>FLAG_WORK_PHONE</th>\n",
       "      <th>FLAG_PHONE</th>\n",
       "      <th>FLAG_EMAIL</th>\n",
       "      <th>OCCUPATION_TYPE</th>\n",
       "      <th>CNT_FAM_MEMBERS</th>\n",
       "    </tr>\n",
       "  </thead>\n",
       "  <tbody>\n",
       "    <tr>\n",
       "      <td>0</td>\n",
       "      <td>5008804</td>\n",
       "      <td>M</td>\n",
       "      <td>Y</td>\n",
       "      <td>Y</td>\n",
       "      <td>0</td>\n",
       "      <td>427500.0</td>\n",
       "      <td>Working</td>\n",
       "      <td>Higher education</td>\n",
       "      <td>Civil marriage</td>\n",
       "      <td>Rented apartment</td>\n",
       "      <td>-12005</td>\n",
       "      <td>-4542</td>\n",
       "      <td>1</td>\n",
       "      <td>1</td>\n",
       "      <td>0</td>\n",
       "      <td>0</td>\n",
       "      <td>NaN</td>\n",
       "      <td>2.0</td>\n",
       "    </tr>\n",
       "    <tr>\n",
       "      <td>1</td>\n",
       "      <td>5008805</td>\n",
       "      <td>M</td>\n",
       "      <td>Y</td>\n",
       "      <td>Y</td>\n",
       "      <td>0</td>\n",
       "      <td>427500.0</td>\n",
       "      <td>Working</td>\n",
       "      <td>Higher education</td>\n",
       "      <td>Civil marriage</td>\n",
       "      <td>Rented apartment</td>\n",
       "      <td>-12005</td>\n",
       "      <td>-4542</td>\n",
       "      <td>1</td>\n",
       "      <td>1</td>\n",
       "      <td>0</td>\n",
       "      <td>0</td>\n",
       "      <td>NaN</td>\n",
       "      <td>2.0</td>\n",
       "    </tr>\n",
       "    <tr>\n",
       "      <td>2</td>\n",
       "      <td>5008806</td>\n",
       "      <td>M</td>\n",
       "      <td>Y</td>\n",
       "      <td>Y</td>\n",
       "      <td>0</td>\n",
       "      <td>112500.0</td>\n",
       "      <td>Working</td>\n",
       "      <td>Secondary / secondary special</td>\n",
       "      <td>Married</td>\n",
       "      <td>House / apartment</td>\n",
       "      <td>-21474</td>\n",
       "      <td>-1134</td>\n",
       "      <td>1</td>\n",
       "      <td>0</td>\n",
       "      <td>0</td>\n",
       "      <td>0</td>\n",
       "      <td>Security staff</td>\n",
       "      <td>2.0</td>\n",
       "    </tr>\n",
       "    <tr>\n",
       "      <td>3</td>\n",
       "      <td>5008808</td>\n",
       "      <td>F</td>\n",
       "      <td>N</td>\n",
       "      <td>Y</td>\n",
       "      <td>0</td>\n",
       "      <td>270000.0</td>\n",
       "      <td>Commercial associate</td>\n",
       "      <td>Secondary / secondary special</td>\n",
       "      <td>Single / not married</td>\n",
       "      <td>House / apartment</td>\n",
       "      <td>-19110</td>\n",
       "      <td>-3051</td>\n",
       "      <td>1</td>\n",
       "      <td>0</td>\n",
       "      <td>1</td>\n",
       "      <td>1</td>\n",
       "      <td>Sales staff</td>\n",
       "      <td>1.0</td>\n",
       "    </tr>\n",
       "    <tr>\n",
       "      <td>4</td>\n",
       "      <td>5008809</td>\n",
       "      <td>F</td>\n",
       "      <td>N</td>\n",
       "      <td>Y</td>\n",
       "      <td>0</td>\n",
       "      <td>270000.0</td>\n",
       "      <td>Commercial associate</td>\n",
       "      <td>Secondary / secondary special</td>\n",
       "      <td>Single / not married</td>\n",
       "      <td>House / apartment</td>\n",
       "      <td>-19110</td>\n",
       "      <td>-3051</td>\n",
       "      <td>1</td>\n",
       "      <td>0</td>\n",
       "      <td>1</td>\n",
       "      <td>1</td>\n",
       "      <td>Sales staff</td>\n",
       "      <td>1.0</td>\n",
       "    </tr>\n",
       "  </tbody>\n",
       "</table>\n",
       "</div>"
      ],
      "text/plain": [
       "        ID CODE_GENDER FLAG_OWN_CAR FLAG_OWN_REALTY  CNT_CHILDREN  \\\n",
       "0  5008804           M            Y               Y             0   \n",
       "1  5008805           M            Y               Y             0   \n",
       "2  5008806           M            Y               Y             0   \n",
       "3  5008808           F            N               Y             0   \n",
       "4  5008809           F            N               Y             0   \n",
       "\n",
       "   AMT_INCOME_TOTAL      NAME_INCOME_TYPE            NAME_EDUCATION_TYPE  \\\n",
       "0          427500.0               Working               Higher education   \n",
       "1          427500.0               Working               Higher education   \n",
       "2          112500.0               Working  Secondary / secondary special   \n",
       "3          270000.0  Commercial associate  Secondary / secondary special   \n",
       "4          270000.0  Commercial associate  Secondary / secondary special   \n",
       "\n",
       "     NAME_FAMILY_STATUS  NAME_HOUSING_TYPE  DAYS_BIRTH  DAYS_EMPLOYED  \\\n",
       "0        Civil marriage   Rented apartment      -12005          -4542   \n",
       "1        Civil marriage   Rented apartment      -12005          -4542   \n",
       "2               Married  House / apartment      -21474          -1134   \n",
       "3  Single / not married  House / apartment      -19110          -3051   \n",
       "4  Single / not married  House / apartment      -19110          -3051   \n",
       "\n",
       "   FLAG_MOBIL  FLAG_WORK_PHONE  FLAG_PHONE  FLAG_EMAIL OCCUPATION_TYPE  \\\n",
       "0           1                1           0           0             NaN   \n",
       "1           1                1           0           0             NaN   \n",
       "2           1                0           0           0  Security staff   \n",
       "3           1                0           1           1     Sales staff   \n",
       "4           1                0           1           1     Sales staff   \n",
       "\n",
       "   CNT_FAM_MEMBERS  \n",
       "0              2.0  \n",
       "1              2.0  \n",
       "2              2.0  \n",
       "3              1.0  \n",
       "4              1.0  "
      ]
     },
     "execution_count": 6,
     "metadata": {},
     "output_type": "execute_result"
    }
   ],
   "source": [
    "application.head()"
   ]
  },
  {
   "cell_type": "markdown",
   "metadata": {},
   "source": [
    "Для начала необходимо определить кто для нас является хорошим клиентом. Хороший клиент - клиент, который несет прибыль банку. Плохие клиенты - клиенты, которые взяли кредитную карту и просрачивают платежи, однако необходимо определиться, какая именно просрочка является критичной. Для этого рассмотрим условную вероятность того, что пользователь просрочит платеж на > 150 дней, при условии, что он просрочил платеж на x дней (x - STATUS из таблицы balances) - P(status=5 | status=x). "
   ]
  },
  {
   "cell_type": "code",
   "execution_count": 7,
   "metadata": {},
   "outputs": [],
   "source": [
    "balances['STATUS'].replace('X', -2, inplace=True)\n",
    "balances['STATUS'].replace('C', -1, inplace=True)\n",
    "balances['STATUS'] = balances['STATUS'].astype(int)"
   ]
  },
  {
   "cell_type": "code",
   "execution_count": 8,
   "metadata": {},
   "outputs": [],
   "source": [
    "grouped = balances.groupby(['ID'])"
   ]
  },
  {
   "cell_type": "code",
   "execution_count": 9,
   "metadata": {},
   "outputs": [],
   "source": [
    "value_counts_status = grouped['STATUS'].max().value_counts().sort_index()"
   ]
  },
  {
   "cell_type": "code",
   "execution_count": 10,
   "metadata": {},
   "outputs": [
    {
     "data": {
      "text/plain": [
       "-2     4536\n",
       "-1     1417\n",
       " 0    34682\n",
       " 1     4683\n",
       " 2      336\n",
       " 3       88\n",
       " 4       48\n",
       " 5      195\n",
       "Name: STATUS, dtype: int64"
      ]
     },
     "execution_count": 10,
     "metadata": {},
     "output_type": "execute_result"
    }
   ],
   "source": [
    "value_counts_status"
   ]
  },
  {
   "cell_type": "code",
   "execution_count": 11,
   "metadata": {},
   "outputs": [],
   "source": [
    "sum_values = {}\n",
    "for i in range(6):\n",
    "    sum_values[i] = sum(value_counts_status[2 + i:])"
   ]
  },
  {
   "cell_type": "code",
   "execution_count": 12,
   "metadata": {},
   "outputs": [
    {
     "data": {
      "text/plain": [
       "{0: 40032, 1: 5350, 2: 667, 3: 331, 4: 243, 5: 195}"
      ]
     },
     "execution_count": 12,
     "metadata": {},
     "output_type": "execute_result"
    }
   ],
   "source": [
    "sum_values"
   ]
  },
  {
   "cell_type": "code",
   "execution_count": 13,
   "metadata": {},
   "outputs": [
    {
     "name": "stdout",
     "output_type": "stream",
     "text": [
      "0: 0.004871103117505995\n",
      "1: 0.03644859813084112\n",
      "2: 0.29235382308845576\n",
      "3: 0.5891238670694864\n",
      "4: 0.8024691358024691\n",
      "5: 1.0\n"
     ]
    }
   ],
   "source": [
    "probability_5_status = []\n",
    "for i in sum_values:\n",
    "    print(f'{i}: {sum_values[5] / sum_values[i]}')\n",
    "    probability_5_status.append(sum_values[5] / sum_values[i])"
   ]
  },
  {
   "cell_type": "code",
   "execution_count": 14,
   "metadata": {},
   "outputs": [
    {
     "data": {
      "image/png": "[encoded data removed]",
      "text/plain": [
       "<Figure size 432x288 with 1 Axes>"
      ]
     },
     "metadata": {
      "needs_background": "light"
     },
     "output_type": "display_data"
    }
   ],
   "source": [
    "# график изменения условной вероятности P(status=5 | status=x) в зависимости от х\n",
    "plt.plot(probability_5_status);"
   ]
  },
  {
   "cell_type": "markdown",
   "metadata": {},
   "source": [
    "29% людей, которые просрочили платеж на 60-89 дней в дальнейшем просрочат его на 150 дней, в то время, как 3.6% людей, просрочивших платеж на срок до 60 дней просрочат его на 150 дней. Тогда к плохим клиентам предлагаю отнести клиентов, которые просрочили оплату кредитной карты на 60 и более дней."
   ]
  },
  {
   "cell_type": "code",
   "execution_count": 15,
   "metadata": {},
   "outputs": [],
   "source": [
    "balances_groupby = pd.DataFrame((grouped['STATUS'].max() >= 2).astype(int))\n",
    "balances_groupby = balances_groupby.rename(columns={'STATUS': 'target'})\n",
    "balances_groupby['open_month'] = - grouped['MONTHS_BALANCE'].min()  # сколько месяцев назад была открыта карта\n",
    "balances_groupby.reset_index(inplace=True)"
   ]
  },
  {
   "cell_type": "code",
   "execution_count": 16,
   "metadata": {},
   "outputs": [],
   "source": [
    "# оставляем только пересекающиеся записи в датасетах\n",
    "set_idx_balances = set(balances_groupby['ID'])\n",
    "set_idx_application = set(application['ID'])\n",
    "cross_idx = set_idx_balances & set_idx_application\n",
    "balances_groupby = balances_groupby[balances_groupby['ID'].isin(cross_idx)]\n",
    "application = application[application['ID'].isin(cross_idx)]"
   ]
  },
  {
   "cell_type": "markdown",
   "metadata": {},
   "source": [
    "Поскольку в данных есть временная составляющая, недопустимо, что бы мы не предсказывали из будующего в прошлое.\n",
    "Что бы избежать такой ситуации, разобьем данные на тренировочный и тестовый датасеты следующим образом: \n",
    "\n",
    "тренировочный датасет - клиенты, открывшие карту 36-48 месяцев назад, а так же все плохие клиенты, открывшие карту позднее чем 24 месяца назад;\n",
    "\n",
    "тестовый датасет - клиенты, открывшие карту 12-24 месяцев назад, а так же все плохие клиенты, открывшие карту менее 24 месяцев назад.\n",
    "\n",
    "То есть для каждого набора мы выбираем окно в 2 года, рассматриваем всех клиентов, открывших карту втечении первого года, а так же плохих клиентов втечении всех двух лет (для тестового датасета - втечении всего, кроме тестовых данных). Второй год необходим для накопления информации о поведении клиента: допустим в конце первого года плохой клиент открыл карту, но ещё не успел просрочить платежи. При рассмотрении лишь одного года, мы будем считать, что данный клиент является хорошим, однако рассматривая окно в 2 года, мы увидим что он просрочил платеж во втором году и пометим его как плохого."
   ]
  },
  {
   "cell_type": "code",
   "execution_count": 17,
   "metadata": {},
   "outputs": [],
   "source": [
    "test = balances_groupby[((balances_groupby['open_month'] < 24) & (balances_groupby['open_month'] >= 12)) | ((balances_groupby['open_month'] < 24) & (balances_groupby['target'] == 1))]\n",
    "train = balances_groupby[(balances_groupby['open_month'] >= 36) & (balances_groupby['open_month'] <= 48) | ((balances_groupby['open_month'] >= 24) & (balances_groupby['target'] == 1))]"
   ]
  },
  {
   "cell_type": "code",
   "execution_count": 18,
   "metadata": {},
   "outputs": [
    {
     "data": {
      "text/plain": [
       "0    6665\n",
       "1     428\n",
       "Name: target, dtype: int64"
      ]
     },
     "execution_count": 18,
     "metadata": {},
     "output_type": "execute_result"
    }
   ],
   "source": [
    "train['target'].value_counts()"
   ]
  },
  {
   "cell_type": "code",
   "execution_count": 19,
   "metadata": {},
   "outputs": [
    {
     "data": {
      "text/plain": [
       "0    8670\n",
       "1     188\n",
       "Name: target, dtype: int64"
      ]
     },
     "execution_count": 19,
     "metadata": {},
     "output_type": "execute_result"
    }
   ],
   "source": [
    "test['target'].value_counts()"
   ]
  },
  {
   "cell_type": "code",
   "execution_count": 20,
   "metadata": {},
   "outputs": [
    {
     "data": {
      "text/plain": [
       "0.06421605401350337"
      ]
     },
     "execution_count": 20,
     "metadata": {},
     "output_type": "execute_result"
    }
   ],
   "source": [
    "train['target'].value_counts()[1] / train['target'].value_counts()[0]"
   ]
  },
  {
   "cell_type": "code",
   "execution_count": 21,
   "metadata": {},
   "outputs": [
    {
     "data": {
      "text/plain": [
       "0.02168396770472895"
      ]
     },
     "execution_count": 21,
     "metadata": {},
     "output_type": "execute_result"
    }
   ],
   "source": [
    "test['target'].value_counts()[1] / test['target'].value_counts()[0]"
   ]
  },
  {
   "cell_type": "markdown",
   "metadata": {},
   "source": [
    "Предобработаем признаки клиентов"
   ]
  },
  {
   "cell_type": "code",
   "execution_count": 22,
   "metadata": {},
   "outputs": [],
   "source": [
    "def make_binarization(df, column, prefix, min_value=None, max_value=None, step=5):\n",
    "    \"\"\"\n",
    "    бинаризуем непрерывные признаки\n",
    "    \"\"\"\n",
    "    if min_value is None:\n",
    "        min_value = int(df[column].min())\n",
    "    if max_value is None:\n",
    "        max_value = int(df[column].max())\n",
    "    for i in range(min_value, max_value, step):\n",
    "        df[f'{prefix}_{i}_{i + step}'] = df[column].apply(lambda x: True if x < i + step and x > i else False)\n",
    "    return df\n",
    "\n",
    "\n",
    "def make_one_hot_features(df, categorical_columns):\n",
    "    \"\"\"\n",
    "    преобразуем категориальные признаки в one hot признаки\n",
    "    \"\"\"\n",
    "    for col in categorical_columns:\n",
    "        df = pd.concat([df, pd.get_dummies(df[col], prefix = f'one_hot_{col}')], axis = 1)\n",
    "    one_hot_features = list(filter(lambda x: x[:7] == 'one_hot', df.columns))\n",
    "    return df, one_hot_features"
   ]
  },
  {
   "cell_type": "code",
   "execution_count": 23,
   "metadata": {},
   "outputs": [],
   "source": [
    "application['year'] = application['DAYS_BIRTH'].apply(lambda x: int(x / -365))\n",
    "application.drop('DAYS_BIRTH', axis=1, inplace=True)"
   ]
  },
  {
   "cell_type": "code",
   "execution_count": 24,
   "metadata": {},
   "outputs": [],
   "source": [
    "application = make_binarization(df=application, column='year', prefix='year')"
   ]
  },
  {
   "cell_type": "code",
   "execution_count": 25,
   "metadata": {},
   "outputs": [],
   "source": [
    "application['years_employed'] = application['DAYS_EMPLOYED'].apply(lambda x: int(x / -365))\n",
    "application.drop('DAYS_EMPLOYED', axis=1, inplace=True)"
   ]
  },
  {
   "cell_type": "code",
   "execution_count": 26,
   "metadata": {},
   "outputs": [],
   "source": [
    "application = make_binarization(df=application, column='years_employed', prefix='years_employed', min_value=0)"
   ]
  },
  {
   "cell_type": "code",
   "execution_count": 27,
   "metadata": {},
   "outputs": [
    {
     "data": {
      "text/plain": [
       "(8, 9, 19)"
      ]
     },
     "execution_count": 27,
     "metadata": {},
     "output_type": "execute_result"
    }
   ],
   "source": [
    "categorical_features = []\n",
    "continious_features = []\n",
    "boolean_features = []\n",
    "for col in application.columns.drop(['ID']):\n",
    "    if application[col].dtype == 'O':\n",
    "        categorical_features.append(col)\n",
    "    elif application[col].dtype == 'bool':\n",
    "        boolean_features.append(col)\n",
    "    else:\n",
    "        continious_features.append(col)\n",
    "len(categorical_features), len(continious_features), len(boolean_features)"
   ]
  },
  {
   "cell_type": "code",
   "execution_count": 28,
   "metadata": {},
   "outputs": [],
   "source": [
    "application, one_hot_features = make_one_hot_features(application, categorical_features)"
   ]
  },
  {
   "cell_type": "code",
   "execution_count": 29,
   "metadata": {},
   "outputs": [],
   "source": [
    "columns_for_train = continious_features + boolean_features + one_hot_features"
   ]
  },
  {
   "cell_type": "markdown",
   "metadata": {},
   "source": [
    "Разбиваем признаки на трейн и тест"
   ]
  },
  {
   "cell_type": "code",
   "execution_count": 30,
   "metadata": {},
   "outputs": [],
   "source": [
    "train_idx = set(train['ID'])\n",
    "test_idx = set(test['ID'])"
   ]
  },
  {
   "cell_type": "code",
   "execution_count": 31,
   "metadata": {},
   "outputs": [],
   "source": [
    "train = pd.merge(application[application['ID'].isin(train_idx)], train, on=\"ID\", how='inner')\n",
    "test = pd.merge(application[application['ID'].isin(test_idx)], test, on=\"ID\", how='inner')"
   ]
  },
  {
   "cell_type": "markdown",
   "metadata": {},
   "source": [
    "Используем catboost из коробки"
   ]
  },
  {
   "cell_type": "code",
   "execution_count": 32,
   "metadata": {},
   "outputs": [],
   "source": [
    "catboost = CatBoostClassifier(verbose=False, random_state=42)"
   ]
  },
  {
   "cell_type": "code",
   "execution_count": 33,
   "metadata": {
    "scrolled": true
   },
   "outputs": [
    {
     "data": {
      "text/plain": [
       "<catboost.core.CatBoostClassifier at 0x17a98043048>"
      ]
     },
     "execution_count": 33,
     "metadata": {},
     "output_type": "execute_result"
    }
   ],
   "source": [
    "catboost.fit(train[columns_for_train], train['target'])"
   ]
  },
  {
   "cell_type": "markdown",
   "metadata": {},
   "source": [
    "Так как сильный дисбаланс классов, посмотрим на значение roc auc"
   ]
  },
  {
   "cell_type": "code",
   "execution_count": 34,
   "metadata": {
    "scrolled": true
   },
   "outputs": [
    {
     "data": {
      "text/plain": [
       "0.9720346558602267"
      ]
     },
     "execution_count": 34,
     "metadata": {},
     "output_type": "execute_result"
    }
   ],
   "source": [
    "roc_auc_score(train['target'], catboost.predict_proba(train[columns_for_train])[:, 1])"
   ]
  },
  {
   "cell_type": "code",
   "execution_count": 35,
   "metadata": {
    "scrolled": true
   },
   "outputs": [
    {
     "data": {
      "text/plain": [
       "0.7509030896463718"
      ]
     },
     "execution_count": 35,
     "metadata": {},
     "output_type": "execute_result"
    }
   ],
   "source": [
    "roc_auc_score(test['target'], catboost.predict_proba(test[columns_for_train])[:, 1])"
   ]
  },
  {
   "cell_type": "markdown",
   "metadata": {},
   "source": [
    "75% пар (объект, скоринг) будут отранжированы правильно"
   ]
  },
  {
   "cell_type": "markdown",
   "metadata": {},
   "source": [
    "Модель сильно переобучена, посмотрим на распределение важных признаков в трейновой и тестовой выборке"
   ]
  },
  {
   "cell_type": "code",
   "execution_count": 36,
   "metadata": {},
   "outputs": [
    {
     "data": {
      "text/plain": [
       "{'AMT_INCOME_TOTAL': 15.202910037449358,\n",
       " 'year': 9.86257162216385,\n",
       " 'years_employed': 9.465095486596352,\n",
       " 'CNT_FAM_MEMBERS': 3.486442854299251,\n",
       " 'one_hot_FLAG_OWN_REALTY_Y': 3.0293421062473804,\n",
       " 'years_employed_0_5': 2.9543639817320266,\n",
       " 'CNT_CHILDREN': 2.9282362347213207,\n",
       " 'FLAG_PHONE': 2.8415891029441642,\n",
       " 'one_hot_OCCUPATION_TYPE_Laborers': 2.81370396773539,\n",
       " 'one_hot_NAME_INCOME_TYPE_Commercial associate': 2.148968114588003,\n",
       " 'one_hot_NAME_FAMILY_STATUS_Civil marriage': 2.106384061261369,\n",
       " 'one_hot_NAME_EDUCATION_TYPE_Secondary / secondary special': 2.021790700995951,\n",
       " 'one_hot_NAME_FAMILY_STATUS_Single / not married': 1.8346677870502606,\n",
       " 'one_hot_FLAG_OWN_CAR_Y': 1.7202598978358394,\n",
       " 'FLAG_WORK_PHONE': 1.7149241073825512,\n",
       " 'one_hot_CODE_GENDER_M': 1.5918774205032722,\n",
       " 'one_hot_OCCUPATION_TYPE_Core staff': 1.5263198954925532,\n",
       " 'year_55_60': 1.5259869890437945,\n",
       " 'year_35_40': 1.46392427708575,\n",
       " 'one_hot_NAME_EDUCATION_TYPE_Higher education': 1.4134275261768892,\n",
       " 'one_hot_CODE_GENDER_F': 1.3909142576920945,\n",
       " 'one_hot_NAME_FAMILY_STATUS_Married': 1.3642661668125489,\n",
       " 'one_hot_OCCUPATION_TYPE_Sales staff': 1.3085920459371883,\n",
       " 'year_50_55': 1.2937349611433528,\n",
       " 'one_hot_OCCUPATION_TYPE_High skill tech staff': 1.235310566112078,\n",
       " 'one_hot_FLAG_OWN_CAR_N': 1.1963114256269687,\n",
       " 'one_hot_OCCUPATION_TYPE_Managers': 1.1846809222453711,\n",
       " 'year_30_35': 1.1390268207992076,\n",
       " 'one_hot_NAME_FAMILY_STATUS_Separated': 1.086871770910792,\n",
       " 'one_hot_NAME_INCOME_TYPE_Working': 1.0223952772865308,\n",
       " 'years_employed_5_10': 0.9969080320643545,\n",
       " 'one_hot_NAME_EDUCATION_TYPE_Incomplete higher': 0.9678091414760515,\n",
       " 'one_hot_OCCUPATION_TYPE_Accountants': 0.9562433748892791,\n",
       " 'one_hot_FLAG_OWN_REALTY_N': 0.89928436536032,\n",
       " 'year_45_50': 0.866766412747474,\n",
       " 'year_40_45': 0.8450439263709895,\n",
       " 'one_hot_NAME_HOUSING_TYPE_Municipal apartment': 0.8157334190799697,\n",
       " 'FLAG_EMAIL': 0.8117805661993955,\n",
       " 'one_hot_NAME_HOUSING_TYPE_With parents': 0.7977212573665843,\n",
       " 'one_hot_NAME_INCOME_TYPE_Pensioner': 0.7733350319628052,\n",
       " 'one_hot_NAME_FAMILY_STATUS_Widow': 0.7687114505118918,\n",
       " 'year_25_30': 0.6587565082439167,\n",
       " 'one_hot_OCCUPATION_TYPE_Drivers': 0.5911480837557942,\n",
       " 'years_employed_15_20': 0.5031953139927791,\n",
       " 'one_hot_OCCUPATION_TYPE_Medicine staff': 0.4844041124522296,\n",
       " 'one_hot_NAME_HOUSING_TYPE_House / apartment': 0.45464656682867377,\n",
       " 'one_hot_OCCUPATION_TYPE_Cleaning staff': 0.42564900866630073,\n",
       " 'years_employed_10_15': 0.41764130436854857,\n",
       " 'year_60_65': 0.4014617290965233,\n",
       " 'years_employed_20_25': 0.3592141170010152,\n",
       " 'one_hot_NAME_INCOME_TYPE_State servant': 0.3534798460094452,\n",
       " 'one_hot_NAME_HOUSING_TYPE_Office apartment': 0.29911171638534056,\n",
       " 'one_hot_NAME_EDUCATION_TYPE_Lower secondary': 0.26977668904558727,\n",
       " 'one_hot_OCCUPATION_TYPE_Cooking staff': 0.26785370271675535,\n",
       " 'one_hot_OCCUPATION_TYPE_Secretaries': 0.18543247846741967,\n",
       " 'years_employed_25_30': 0.18065661773703892,\n",
       " 'one_hot_OCCUPATION_TYPE_Security staff': 0.15856625764048768,\n",
       " 'year_65_70': 0.14396481290105156,\n",
       " 'one_hot_OCCUPATION_TYPE_Low-skill Laborers': 0.10124619724186085,\n",
       " 'one_hot_NAME_HOUSING_TYPE_Rented apartment': 0.08632061162600393,\n",
       " 'one_hot_NAME_HOUSING_TYPE_Co-op apartment': 0.07896567817123819,\n",
       " 'one_hot_OCCUPATION_TYPE_Waiters/barmen staff': 0.057958543764403535,\n",
       " 'one_hot_OCCUPATION_TYPE_Private service staff': 0.053388757385597355,\n",
       " 'one_hot_OCCUPATION_TYPE_Realty agents': 0.04885930098307508,\n",
       " 'year_20_25': 0.02888879899558665,\n",
       " 'years_employed_30_35': 0.00512521539211773,\n",
       " 'one_hot_NAME_EDUCATION_TYPE_Academic degree': 0.0033610585361270886,\n",
       " 'one_hot_OCCUPATION_TYPE_IT staff': 0.002076310804985739,\n",
       " 'years_employed_35_40': 0.001990902771524735,\n",
       " 'years_employed_40_45': 0.0017466210883422548,\n",
       " 'one_hot_OCCUPATION_TYPE_HR staff': 0.000605090105247238,\n",
       " 'one_hot_NAME_INCOME_TYPE_Student': 0.000280683924424332,\n",
       " 'FLAG_MOBIL': 0.0}"
      ]
     },
     "execution_count": 36,
     "metadata": {},
     "output_type": "execute_result"
    }
   ],
   "source": [
    "argsort = np.argsort(catboost.feature_importances_)[::-1]\n",
    "dict(zip(np.array(columns_for_train)[argsort], np.sort(catboost.feature_importances_)[::-1]))  # важность признаков"
   ]
  },
  {
   "cell_type": "code",
   "execution_count": 37,
   "metadata": {},
   "outputs": [
    {
     "data": {
      "image/png": "[encoded data removed]",
      "text/plain": [
       "<Figure size 432x288 with 1 Axes>"
      ]
     },
     "metadata": {
      "needs_background": "light"
     },
     "output_type": "display_data"
    }
   ],
   "source": [
    "train['AMT_INCOME_TOTAL'].hist(alpha = 0.3, density=True, label='train')\n",
    "test['AMT_INCOME_TOTAL'].hist(alpha = 0.3, density=True, label='test')\n",
    "plt.legend();"
   ]
  },
  {
   "cell_type": "code",
   "execution_count": 38,
   "metadata": {},
   "outputs": [
    {
     "data": {
      "image/png": "[encoded data removed]",
      "text/plain": [
       "<Figure size 432x288 with 1 Axes>"
      ]
     },
     "metadata": {
      "needs_background": "light"
     },
     "output_type": "display_data"
    }
   ],
   "source": [
    "train['year'].hist(alpha = 0.3, density=True, label='train')\n",
    "test['year'].hist(alpha = 0.3, density=True, label='test')\n",
    "plt.legend();"
   ]
  },
  {
   "cell_type": "code",
   "execution_count": 39,
   "metadata": {},
   "outputs": [
    {
     "data": {
      "text/plain": [
       "<matplotlib.legend.Legend at 0x17a982a7488>"
      ]
     },
     "execution_count": 39,
     "metadata": {},
     "output_type": "execute_result"
    },
    {
     "data": {
      "image/png": "[encoded data removed]",
      "text/plain": [
       "<Figure size 432x288 with 1 Axes>"
      ]
     },
     "metadata": {
      "needs_background": "light"
     },
     "output_type": "display_data"
    }
   ],
   "source": [
    "train[train['years_employed'] > 0]['years_employed'].hist(alpha = 0.3, density=True, label='train')\n",
    "test[test['years_employed'] > 0]['years_employed'].hist(alpha = 0.3, density=True, label='test')\n",
    "plt.legend()"
   ]
  },
  {
   "cell_type": "code",
   "execution_count": 40,
   "metadata": {},
   "outputs": [
    {
     "data": {
      "text/plain": [
       "<matplotlib.legend.Legend at 0x17a995979c8>"
      ]
     },
     "execution_count": 40,
     "metadata": {},
     "output_type": "execute_result"
    },
    {
     "data": {
      "image/png": "[encoded data removed]",
      "text/plain": [
       "<Figure size 432x288 with 1 Axes>"
      ]
     },
     "metadata": {
      "needs_background": "light"
     },
     "output_type": "display_data"
    }
   ],
   "source": [
    "train['one_hot_OCCUPATION_TYPE_Laborers'].hist(alpha = 0.3, density=True, label='train')\n",
    "test['one_hot_OCCUPATION_TYPE_Laborers'].hist(alpha = 0.3, density=True, label='test')\n",
    "plt.legend()"
   ]
  },
  {
   "cell_type": "markdown",
   "metadata": {},
   "source": [
    "Распределение признаков в трейне и тесте не сильно отличаются, но качество на трейне значительно выше, чем качество на тестовых данных. Посмотрим, на сколько сильно отличаются объекты в тренировочном и тестовом датасетах"
   ]
  },
  {
   "cell_type": "code",
   "execution_count": 41,
   "metadata": {},
   "outputs": [],
   "source": [
    "catboost = CatBoostClassifier(verbose=False, random_state=42)"
   ]
  },
  {
   "cell_type": "code",
   "execution_count": 42,
   "metadata": {},
   "outputs": [],
   "source": [
    "train['train'] = 1\n",
    "test['train'] = 0"
   ]
  },
  {
   "cell_type": "code",
   "execution_count": 43,
   "metadata": {},
   "outputs": [],
   "source": [
    "df = pd.concat([train, test], axis=0)"
   ]
  },
  {
   "cell_type": "code",
   "execution_count": 44,
   "metadata": {},
   "outputs": [
    {
     "data": {
      "text/plain": [
       "0    8858\n",
       "1    7093\n",
       "Name: train, dtype: int64"
      ]
     },
     "execution_count": 44,
     "metadata": {},
     "output_type": "execute_result"
    }
   ],
   "source": [
    "df['train'].value_counts()"
   ]
  },
  {
   "cell_type": "code",
   "execution_count": 45,
   "metadata": {
    "scrolled": true
   },
   "outputs": [
    {
     "data": {
      "text/plain": [
       "<catboost.core.CatBoostClassifier at 0x17a99566608>"
      ]
     },
     "execution_count": 45,
     "metadata": {},
     "output_type": "execute_result"
    }
   ],
   "source": [
    "catboost.fit(df[columns_for_train], df['train'])"
   ]
  },
  {
   "cell_type": "code",
   "execution_count": 46,
   "metadata": {},
   "outputs": [
    {
     "data": {
      "text/plain": [
       "0.7001441915867344"
      ]
     },
     "execution_count": 46,
     "metadata": {},
     "output_type": "execute_result"
    }
   ],
   "source": [
    "accuracy_score(df['train'], catboost.predict(df[columns_for_train])) "
   ]
  },
  {
   "cell_type": "markdown",
   "metadata": {},
   "source": [
    "В 70% случаях, модель может разделить трейн и тест, значит совместное распределение признаков достаточно сильно различается.\n",
    "\n",
    "В таком случае есть можно попробовать сделать две вещи: \n",
    "\n",
    "1 - аналогичным образом создать валидационный датасет и при помощи random search или grid search регуляризировать бустинг, при этом изменяя параметры depth, l2_leaf_reg, iterations, learning_rate, min_data_in_leaf. Для валидации используем новый созданный датасет (на кросс-валидации скорее всего качество будет завышенное, т.к. данные в различных времянных окнах отличаются) и стараемся максимизировать на нем качество\n",
    "\n",
    "2 - изменять тренировочный и тестовый корпуса. Окно величиной два года - скорее всего слишком велико, имеет смысл рассмотреть окно меньшего размера, так же включение в тренировочный набор более старых данных может добавить обобщающей способности модели"
   ]
  },
  {
   "cell_type": "markdown",
   "metadata": {},
   "source": [
    "После получения моделью удовлетворительного качества (наверное инференс модели нужно откалибровать на вероятность, если от вероятности того, что клиент является плохим зависит сумма, на которую выдается кридитная карта), можно валидировать модель на реальных данных. Делать это можно при помощи а/б теста. Разбить потенциальных клиентов на две группы, определить измеряемую величину (число плохих клиентов/деньги), определить какое изменение ключевой метрики мы ожидаем получить, определиться с мощностью и уровнем значимости, а затем определить определить количество клиентов в каждой из подгрупп. На протяжении некоторого времени (зависит от количества клиентов в группах) выдавать кредитные карты согласно предсказаниям моделей из группы а (если сейчас используется модель) и группы б (разрабатываемая модель). После того, как необходимое число клиентов будет набрано в каждоый группе, тест необходимо остановить и подождать некоторое время, по истичению которого можно измерять ключевую метрику. Проверить гипотезу о том, что имеется статистическая значимость между измеряемыми величинами в обеих группах."
   ]
  }
 ],
 "metadata": {
  "kernelspec": {
   "display_name": "Python 3",
   "language": "python",
   "name": "python3"
  },
  "language_info": {
   "codemirror_mode": {
    "name": "ipython",
    "version": 3
   },
   "file_extension": ".py",
   "mimetype": "text/x-python",
   "name": "python",
   "nbconvert_exporter": "python",
   "pygments_lexer": "ipython3",
   "version": "3.7.4"
  }
 },
 "nbformat": 4,
 "nbformat_minor": 2
}
