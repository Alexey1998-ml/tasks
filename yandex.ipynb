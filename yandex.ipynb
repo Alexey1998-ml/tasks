{
 "cells": [
  {
   "cell_type": "code",
   "execution_count": 14,
   "metadata": {},
   "outputs": [],
   "source": [
    "import numpy as np\n",
    "import random\n",
    "import matplotlib.pyplot as plt\n",
    "%matplotlib inline\n",
    "import pandas as pd\n",
    "from sklearn.linear_model import LinearRegression\n",
    "import sys, os\n",
    "import copy\n",
    "from IPython.display import clear_output"
   ]
  },
  {
   "cell_type": "code",
   "execution_count": 11,
   "metadata": {},
   "outputs": [],
   "source": [
    "n = int(input())\n",
    "x = []\n",
    "y = []\n",
    "for i in range(n):\n",
    "    x_cur, y_cur = input().split()\n",
    "    x.append(float(x_cur))\n",
    "    y.append(float(y_cur))"
   ]
  },
  {
   "cell_type": "code",
   "execution_count": null,
   "metadata": {},
   "outputs": [],
   "source": [
    "d = {}\n",
    "y = []\n",
    "y_sum = 0\n",
    "for _ in range(100):\n",
    "    cur_x = 10 * random.random()\n",
    "    cur_y = cur_x * 3 + random.normalvariate(0,1)\n",
    "    d[cur_x] = cur_y"
   ]
  },
  {
   "cell_type": "code",
   "execution_count": null,
   "metadata": {},
   "outputs": [],
   "source": [
    "x, y = zip(*sorted([[keys, d[keys]] for keys in d.keys()], key = lambda x: x[0]))"
   ]
  },
  {
   "cell_type": "code",
   "execution_count": null,
   "metadata": {},
   "outputs": [],
   "source": []
  },
  {
   "cell_type": "code",
   "execution_count": null,
   "metadata": {},
   "outputs": [],
   "source": []
  },
  {
   "cell_type": "code",
   "execution_count": null,
   "metadata": {},
   "outputs": [],
   "source": [
    "s_left = 0\n",
    "s_right = sum(y)\n",
    "s2_left = 0\n",
    "s2_right = sum(map(lambda x: x*2, y))\n",
    "n = len(x)\n",
    "best_a = y[0]\n",
    "best_b = s_right / n\n",
    "best_c = (x[0] + x[1]) / 2\n",
    "best_coast = float('inf')"
   ]
  },
  {
   "cell_type": "code",
   "execution_count": null,
   "metadata": {},
   "outputs": [],
   "source": [
    "for i in range(n - 1):\n",
    "    s_left += y[i]\n",
    "    s_right -= y[i]\n",
    "    s2_left += y[i] ** 2\n",
    "    s2_right -= y[i] ** 2\n",
    "    a = s_left / (i + 1)\n",
    "    b = s_right / (n - i - 1)\n",
    "    if x[i] != x[i+1]:\n",
    "        left_coast = a * a * (i + 1) - 2 * a * s_left + s2_left\n",
    "        right_coast = b * b * (n - i - 1)  - 2 * b * s_right + s2_right\n",
    "        total_coast = left_coast + right_coast\n",
    "        if total_coast < best_coast:\n",
    "            best_a = a\n",
    "            best_b = b\n",
    "            best_c = (x[i] + x[i+1]) / 2\n",
    "            best_coast = total_coast\n",
    "        \n",
    "    \n",
    "    "
   ]
  },
  {
   "cell_type": "code",
   "execution_count": null,
   "metadata": {},
   "outputs": [],
   "source": [
    "best_a"
   ]
  },
  {
   "cell_type": "code",
   "execution_count": null,
   "metadata": {},
   "outputs": [],
   "source": [
    "best_b"
   ]
  },
  {
   "cell_type": "code",
   "execution_count": null,
   "metadata": {},
   "outputs": [],
   "source": [
    "tree_array = [tree(x[i], best_a, best_b, best_c) for i in range(len(x))]"
   ]
  },
  {
   "cell_type": "code",
   "execution_count": null,
   "metadata": {
    "scrolled": true
   },
   "outputs": [],
   "source": [
    "plt.plot(np.array(x), tree_array)\n",
    "plt.plot(np.array(x), np.array(y))"
   ]
  },
  {
   "cell_type": "code",
   "execution_count": null,
   "metadata": {},
   "outputs": [],
   "source": [
    "def tree(x, a, b, c):\n",
    "    return a if x < c else b"
   ]
  },
  {
   "cell_type": "code",
   "execution_count": null,
   "metadata": {},
   "outputs": [],
   "source": [
    "class MeanCalculation:\n",
    "    def __init__(self):\n",
    "        self.count = 0\n",
    "        self.mean = 0\n",
    "    \n",
    "    def add(self, value, weight = 1):\n",
    "        self.count += weight\n",
    "        self.mean += weight * (value - self.mean) / self.count\n",
    "    \n",
    "    def remove(self, weight = 1):\n",
    "        self.add(value, -weight)\n"
   ]
  },
  {
   "cell_type": "code",
   "execution_count": null,
   "metadata": {},
   "outputs": [],
   "source": [
    "class SumSquareError:\n",
    "    def __init__(self):\n",
    "        self.MeanCalculation = MeanCalculation()\n",
    "        self.sse = 0\n",
    "    \n",
    "    def add(self, value, weight = 1):\n",
    "        cur_dif = value - self.MeanCalculation.mean\n",
    "        self.MeanCalculation.add(value, weight)\n",
    "        self.sse += weight * cur_dif * (value - self.MeanCalculation.mean)\n",
    "        \n",
    "    def remove(self, value, weight = 1):\n",
    "        self.add(value, -weight)"
   ]
  },
  {
   "cell_type": "code",
   "execution_count": null,
   "metadata": {},
   "outputs": [],
   "source": []
  },
  {
   "cell_type": "code",
   "execution_count": null,
   "metadata": {},
   "outputs": [],
   "source": []
  },
  {
   "cell_type": "code",
   "execution_count": null,
   "metadata": {},
   "outputs": [],
   "source": []
  },
  {
   "cell_type": "code",
   "execution_count": null,
   "metadata": {},
   "outputs": [],
   "source": []
  },
  {
   "cell_type": "code",
   "execution_count": null,
   "metadata": {},
   "outputs": [],
   "source": [
    "loss = []\n",
    "items.sort()\n",
    "min_loss = float('inf')\n",
    "summarizer = Summarize(items,y_sum)\n",
    "for i in range(1,len(items)):\n",
    "#     a = np.mean(np.array(items)[:,1][:i])\n",
    "#     b = np.mean(np.array(items)[:,1][i:])\n",
    "    a, b = summarizer.step(i)\n",
    "    c = (items[i][0] + items[i-1][0])/2 \n",
    "    cur_loss = sum((items[j][1] -tree(items[j][0],a, b, c) ) ** 2 for j in range(len(items)))\n",
    "    loss.append(cur_loss)\n",
    "    if cur_loss < min_loss:\n",
    "        min_loss = cur_loss\n",
    "        best_a = a\n",
    "        best_b = b\n",
    "        best_c = c"
   ]
  },
  {
   "cell_type": "code",
   "execution_count": null,
   "metadata": {
    "scrolled": true
   },
   "outputs": [],
   "source": [
    "best_a"
   ]
  },
  {
   "cell_type": "code",
   "execution_count": null,
   "metadata": {
    "scrolled": true
   },
   "outputs": [],
   "source": [
    "best_a"
   ]
  },
  {
   "cell_type": "code",
   "execution_count": null,
   "metadata": {
    "scrolled": true
   },
   "outputs": [],
   "source": [
    "best_b"
   ]
  },
  {
   "cell_type": "code",
   "execution_count": null,
   "metadata": {
    "scrolled": false
   },
   "outputs": [],
   "source": [
    "best_c"
   ]
  },
  {
   "cell_type": "code",
   "execution_count": null,
   "metadata": {},
   "outputs": [],
   "source": [
    "tree_array = [tree(items[i][0], best_a, best_b, best_c) for i in range(len(items))]"
   ]
  },
  {
   "cell_type": "code",
   "execution_count": null,
   "metadata": {
    "scrolled": true
   },
   "outputs": [],
   "source": [
    "plt.plot(np.array(items)[:,0], tree_array)\n",
    "plt.plot(np.array(items)[:,0], np.array(items)[:,1])"
   ]
  },
  {
   "cell_type": "code",
   "execution_count": null,
   "metadata": {},
   "outputs": [],
   "source": [
    "class Summarize:\n",
    "    def __init__(self, items, y_sum):\n",
    "        self.left_sum = 0\n",
    "        self.right_sum = y_sum\n",
    "        self.items = items\n",
    "    def step(self, i):\n",
    "        self.left_sum += items[i-1][1]\n",
    "        self.right_sum -= items[i-1][1]\n",
    "        return self.left_sum / i, self.right_sum / (len(items) - i)"
   ]
  },
  {
   "cell_type": "code",
   "execution_count": null,
   "metadata": {},
   "outputs": [],
   "source": []
  },
  {
   "cell_type": "code",
   "execution_count": null,
   "metadata": {},
   "outputs": [],
   "source": [
    "df = pd.read_csv('data.csv', names = ['x', 'y'])"
   ]
  },
  {
   "cell_type": "code",
   "execution_count": null,
   "metadata": {},
   "outputs": [],
   "source": [
    "df['sin2x'] = df['x'].apply(lambda x: (np.sin(x))**2)\n",
    "df['sinx*lnx'] = df['x'].apply(lambda x: np.sin(x) * np.log(x))\n",
    "df['ln2x'] = df['x'].apply(lambda x: np.log(x)**2)\n",
    "df['x**2'] = df['x'].apply(lambda x: x**2)"
   ]
  },
  {
   "cell_type": "code",
   "execution_count": null,
   "metadata": {},
   "outputs": [],
   "source": [
    "logit = LinearRegression()"
   ]
  },
  {
   "cell_type": "code",
   "execution_count": null,
   "metadata": {},
   "outputs": [],
   "source": [
    "logit.fit(df[df.columns.drop(['y', 'x'])], df['y'])"
   ]
  },
  {
   "cell_type": "code",
   "execution_count": null,
   "metadata": {
    "scrolled": true
   },
   "outputs": [],
   "source": [
    "logit.predict(df.iloc[:3][df.columns.drop(['y', 'x'])])   "
   ]
  },
  {
   "cell_type": "code",
   "execution_count": null,
   "metadata": {},
   "outputs": [],
   "source": [
    "w1, w2, w3, w4 = logit.coef_"
   ]
  },
  {
   "cell_type": "code",
   "execution_count": null,
   "metadata": {},
   "outputs": [],
   "source": [
    "df[df.columns.drop(['y', 'x'])]"
   ]
  },
  {
   "cell_type": "code",
   "execution_count": null,
   "metadata": {},
   "outputs": [],
   "source": [
    "a = np.sqrt(w1)\n",
    "b = np.sqrt(w3)\n",
    "c = w4"
   ]
  },
  {
   "cell_type": "code",
   "execution_count": null,
   "metadata": {
    "scrolled": true
   },
   "outputs": [],
   "source": [
    "a, b, c"
   ]
  },
  {
   "cell_type": "code",
   "execution_count": null,
   "metadata": {},
   "outputs": [],
   "source": []
  },
  {
   "cell_type": "code",
   "execution_count": null,
   "metadata": {},
   "outputs": [],
   "source": []
  },
  {
   "cell_type": "code",
   "execution_count": null,
   "metadata": {},
   "outputs": [],
   "source": []
  },
  {
   "cell_type": "code",
   "execution_count": null,
   "metadata": {},
   "outputs": [],
   "source": []
  },
  {
   "cell_type": "code",
   "execution_count": null,
   "metadata": {},
   "outputs": [],
   "source": []
  },
  {
   "cell_type": "code",
   "execution_count": null,
   "metadata": {},
   "outputs": [],
   "source": [
    "with open('restaurants_train.txt', 'r') as file:\n",
    "    s = file.readline()"
   ]
  },
  {
   "cell_type": "code",
   "execution_count": null,
   "metadata": {},
   "outputs": [],
   "source": [
    "restarants = []\n",
    "with open('restaurants_train.txt', 'r') as file:\n",
    "    n = file.readline()\n",
    "    for line in file:\n",
    "        restarants.append(line.split())"
   ]
  },
  {
   "cell_type": "code",
   "execution_count": null,
   "metadata": {},
   "outputs": [],
   "source": [
    "restarants = pd.DataFrame(restarants, columns = ['y', 'r1', 'r2', 'd1', 'd2'])"
   ]
  },
  {
   "cell_type": "code",
   "execution_count": null,
   "metadata": {},
   "outputs": [],
   "source": [
    "def score (rd):\n",
    "    r = float(rd[0])\n",
    "    d = float(rd[1])\n",
    "    if r > 0:\n",
    "        return np.exp(r/2.9)/10 + (1/np.log(d*450 + 1.1))\n",
    "    return  1 / (np.log(d*450 + 1.1))"
   ]
  },
  {
   "cell_type": "code",
   "execution_count": null,
   "metadata": {},
   "outputs": [],
   "source": [
    "restarants['score1'] = restarants[['r1', 'd1']].apply(score, axis = 1)\n",
    "restarants['score2'] = restarants[['r2', 'd2']].apply(score, axis = 1)"
   ]
  },
  {
   "cell_type": "code",
   "execution_count": null,
   "metadata": {
    "scrolled": true
   },
   "outputs": [],
   "source": [
    "max(restarants['score2'])"
   ]
  },
  {
   "cell_type": "code",
   "execution_count": null,
   "metadata": {},
   "outputs": [],
   "source": [
    "def m (df):\n",
    "    negative1 = df[(df['y'] == str(1))]# & (df['score1'] > df['score2'])]\n",
    "    negative2 = df[(df['y'] == str(0))]#& (df['score1'] < df['score2'])]\n",
    "    s1 = sum(np.log(1 + np.exp(negative1['score1'] - negative1['score2'])))\n",
    "    s2 = sum(np.log(1 + np.exp(negative2['score2'] - negative2['score1'])))\n",
    "    return (s1 + s2) / (negative1.shape[0] + negative2.shape[0])"
   ]
  },
  {
   "cell_type": "code",
   "execution_count": null,
   "metadata": {},
   "outputs": [],
   "source": [
    "m(restarants)"
   ]
  },
  {
   "cell_type": "code",
   "execution_count": null,
   "metadata": {},
   "outputs": [],
   "source": [
    "def optimization(df):\n",
    "    def score (rd):\n",
    "        r = float(rd[0])\n",
    "        d = float(rd[1])\n",
    "        if r > 0:\n",
    "                return np.exp(r/a)/k + (1/np.log(d*b + c))\n",
    "        return  j / (np.log(d*b + f))\n",
    "    a = 5 * random.random()\n",
    "    b = random.randint(1, 1000)\n",
    "    c = 2 * random.random()\n",
    "    f = 2 * random.random()\n",
    "    j = 5 * random.random()\n",
    "#     k1, k2, k3 = random.random(), random.random(), random.random()\n",
    "#     k4, k5, k6 = random.random(), random.random(), random.random()\n",
    "#     k1 = int(k1>0.5)\n",
    "#     k2 = int(k2>0.5)\n",
    "#     k3 = int(k3>0.5)\n",
    "#     k4 = int(k4>0.5)\n",
    "#     k5 = int(k5>0.5)\n",
    "#     k6 = int(k6>0.5)\n",
    "#     print(a, b, c, e, f)\n",
    "    df['score1'] = df[['r1', 'd1']].apply(score, axis = 1)\n",
    "    df['score2'] = df[['r2', 'd2']].apply(score, axis = 1)\n",
    "    metrics = m(df)\n",
    "#     print(j, metrics)\n",
    "    log.append([metrics,a, b, c, f,j])\n",
    "#     return m(df), a, b, c, e, k1, k2, k3"
   ]
  },
  {
   "cell_type": "code",
   "execution_count": null,
   "metadata": {},
   "outputs": [],
   "source": [
    "log = []\n",
    "for _ in range(10000):\n",
    "    log.append([optimization(restarants)])"
   ]
  },
  {
   "cell_type": "code",
   "execution_count": null,
   "metadata": {},
   "outputs": [],
   "source": [
    "min_m = 1\n",
    "for i in range(len(log)):\n",
    "    if log[i][0]:\n",
    "        if log[i][0] < min_m:\n",
    "            min_i = i\n",
    "            min_m = log[i][0]"
   ]
  },
  {
   "cell_type": "code",
   "execution_count": null,
   "metadata": {},
   "outputs": [],
   "source": [
    "min_m"
   ]
  },
  {
   "cell_type": "code",
   "execution_count": null,
   "metadata": {},
   "outputs": [],
   "source": [
    "a = ['8', 'вк', 'рефераты', 'вк', 'ок', 'одноклассники', 'яндекс', 'вконтакте', 'ок']"
   ]
  },
  {
   "cell_type": "code",
   "execution_count": null,
   "metadata": {},
   "outputs": [],
   "source": [
    "m = 100\n",
    "b = bytearray(m)\n",
    "for i in a:\n",
    "    b[hash(i) % m] = 1"
   ]
  },
  {
   "cell_type": "code",
   "execution_count": null,
   "metadata": {},
   "outputs": [],
   "source": [
    "b.count(1)"
   ]
  },
  {
   "cell_type": "code",
   "execution_count": null,
   "metadata": {},
   "outputs": [],
   "source": [
    "len(set(a))"
   ]
  },
  {
   "cell_type": "code",
   "execution_count": null,
   "metadata": {},
   "outputs": [],
   "source": [
    "round(0.000000000004, 20)"
   ]
  },
  {
   "cell_type": "code",
   "execution_count": null,
   "metadata": {},
   "outputs": [],
   "source": []
  },
  {
   "cell_type": "code",
   "execution_count": null,
   "metadata": {},
   "outputs": [],
   "source": []
  },
  {
   "cell_type": "code",
   "execution_count": null,
   "metadata": {},
   "outputs": [],
   "source": []
  },
  {
   "cell_type": "code",
   "execution_count": null,
   "metadata": {},
   "outputs": [],
   "source": []
  },
  {
   "cell_type": "markdown",
   "metadata": {},
   "source": [
    "# Контекст"
   ]
  },
  {
   "cell_type": "markdown",
   "metadata": {},
   "source": [
    "## Детектор свежести"
   ]
  },
  {
   "cell_type": "code",
   "execution_count": null,
   "metadata": {},
   "outputs": [],
   "source": [
    "from sklearn.metrics import f1_score\n",
    "import datetime\n",
    "from sklearn.linear_model import LogisticRegression\n",
    "from sklearn.preprocessing import StandardScaler, OneHotEncoder\n",
    "from sklearn.model_selection import train_test_split\n",
    "import warnings\n",
    "warnings.filterwarnings('ignore')\n",
    "from scipy.sparse import vstack, hstack\n",
    "import scipy\n",
    "from sklearn.ensemble import RandomForestClassifier\n",
    "from collections import defaultdict, Counter\n",
    "from sklearn.feature_extraction.text import TfidfVectorizer\n",
    "from lightgbm import LGBMClassifier\n",
    "from sklearn.pipeline import Pipeline, TransformerMixin, FeatureUnion\n",
    "from sklearn.base import BaseEstimator"
   ]
  },
  {
   "cell_type": "code",
   "execution_count": null,
   "metadata": {},
   "outputs": [],
   "source": [
    "train = pd.read_csv('c_train.tsv', sep = '\\t')\n",
    "test = pd.read_csv('c_test.tsv', sep = '\\t')"
   ]
  },
  {
   "cell_type": "code",
   "execution_count": null,
   "metadata": {},
   "outputs": [],
   "source": [
    "def add_date_columns(df):\n",
    "    df['data'] = df['timestamp'].apply(lambda x: datetime.datetime.fromtimestamp(x))\n",
    "    df['hour'] = df['data'].apply(lambda x: x.hour)\n",
    "    df['second'] = df['data'].apply(lambda x: x.second)\n",
    "    df['minutes'] = df['data'].apply(lambda x: x.minute)\n",
    "    df['day'] = df['data'].apply(lambda x: x.day)\n",
    "    return df"
   ]
  },
  {
   "cell_type": "code",
   "execution_count": null,
   "metadata": {},
   "outputs": [],
   "source": [
    "train = add_date_columns(train)\n",
    "test = add_date_columns(test)"
   ]
  },
  {
   "cell_type": "code",
   "execution_count": null,
   "metadata": {},
   "outputs": [],
   "source": [
    "train['minutes'].dtype"
   ]
  },
  {
   "cell_type": "code",
   "execution_count": null,
   "metadata": {},
   "outputs": [],
   "source": [
    "class ColumnSelector(BaseEstimator, TransformerMixin):\n",
    "    \n",
    "    def __init__(self, columns):\n",
    "        self.columns = columns\n",
    "    \n",
    "    def fit(self, x, y = None):\n",
    "        return self\n",
    "    \n",
    "    def transform(self, x):\n",
    "        return x[self.columns]"
   ]
  },
  {
   "cell_type": "code",
   "execution_count": null,
   "metadata": {},
   "outputs": [],
   "source": [
    "pipeline_tfidf = Pipeline([\n",
    "    ('features',\n",
    "     FeatureUnion([\n",
    "         ('tfidf', Pipeline([\n",
    "             ('selection', ColumnSelector('query')),\n",
    "             ('tfidf', TfidfVectorizer())\n",
    "             ])\n",
    "          ),\n",
    "         ('categorial', ColumnSelector(['hour', 'second', 'minutes', 'day'] +\n",
    "                                      list(filter(lambda x: x[:8] == 'requests', train.columns))\n",
    "                                      )\n",
    "            )\n",
    "     ])\n",
    "    ),\n",
    "    ('clf', RandomForestClassifier(n_estimators=100, class_weight='balanced'))\n",
    "])"
   ]
  },
  {
   "cell_type": "code",
   "execution_count": null,
   "metadata": {
    "scrolled": true
   },
   "outputs": [],
   "source": [
    "pipeline_tfidf.fit(train[train['day'] <= 28], train[train['day'] <= 28]['fresh_click'])"
   ]
  },
  {
   "cell_type": "code",
   "execution_count": null,
   "metadata": {},
   "outputs": [],
   "source": [
    "f1_score(train[train['day'] == 29]['fresh_click'], pipeline_tfidf.predict(train[train['day'] == 29]))"
   ]
  },
  {
   "cell_type": "code",
   "execution_count": null,
   "metadata": {},
   "outputs": [],
   "source": [
    "predict_test =  pipeline_tfidf.predict(test)"
   ]
  },
  {
   "cell_type": "code",
   "execution_count": null,
   "metadata": {},
   "outputs": [],
   "source": [
    "np.savetxt('out.txt', predict_test, '%d')"
   ]
  },
  {
   "cell_type": "markdown",
   "metadata": {},
   "source": [
    "## Отбор признаков"
   ]
  },
  {
   "cell_type": "code",
   "execution_count": null,
   "metadata": {
    "scrolled": true
   },
   "outputs": [],
   "source": [
    "from catboost import CatBoostRegressor\n",
    "from sklearn.metrics import mean_squared_error\n",
    "from sklearn.model_selection import KFold"
   ]
  },
  {
   "cell_type": "code",
   "execution_count": null,
   "metadata": {},
   "outputs": [],
   "source": [
    "data = []\n",
    "with open ('d_train.txt', 'r') as file:\n",
    "    for line in file:\n",
    "        data.append(map(float, line.split()))"
   ]
  },
  {
   "cell_type": "code",
   "execution_count": null,
   "metadata": {},
   "outputs": [],
   "source": [
    "df = pd.DataFrame(data, columns = ['index', 'target', 'num'] + list(range(500))).drop(['index', 'num'], axis = 1)\n",
    "X = df.drop(['target'], axis = 1)\n",
    "Y = df['target']"
   ]
  },
  {
   "cell_type": "code",
   "execution_count": null,
   "metadata": {},
   "outputs": [],
   "source": [
    "cv = KFold(n_splits = 10, random_state = 42, shuffle = True, )"
   ]
  },
  {
   "cell_type": "code",
   "execution_count": null,
   "metadata": {},
   "outputs": [],
   "source": [
    "def get_mean_RMSE(features):\n",
    "    RMSE = []\n",
    "    for test, train in cv.split(X):\n",
    "        catboost = CatBoostRegressor(iterations=200, learning_rate=0.1, verbose  = 0, random_state=42)\n",
    "        catboost.fit(X[features].loc[train], Y.loc[train])\n",
    "        predicts = catboost.predict(X[features].loc[test])\n",
    "        RMSE.append(mean_squared_error(Y.loc[test], predicts))\n",
    "    return np.mean(RMSE)\n"
   ]
  },
  {
   "cell_type": "code",
   "execution_count": null,
   "metadata": {},
   "outputs": [],
   "source": [
    "catboost = CatBoostRegressor(iterations=200, learning_rate=0.1, verbose  = 0, random_state=42)"
   ]
  },
  {
   "cell_type": "code",
   "execution_count": null,
   "metadata": {},
   "outputs": [],
   "source": [
    "catboost.fit(X,Y)"
   ]
  },
  {
   "cell_type": "code",
   "execution_count": null,
   "metadata": {},
   "outputs": [],
   "source": [
    "features = pd.DataFrame(catboost.feature_importances_)"
   ]
  },
  {
   "cell_type": "code",
   "execution_count": null,
   "metadata": {},
   "outputs": [],
   "source": [
    "ax = features[0].sort_values(ascending=False).head(50).plot(kind = 'bar', figsize = (15, 5))"
   ]
  },
  {
   "cell_type": "code",
   "execution_count": null,
   "metadata": {
    "scrolled": true
   },
   "outputs": [],
   "source": [
    "get_mean_RMSE(np.argsort(catboost.feature_importances_)[::-1][:10])"
   ]
  },
  {
   "cell_type": "code",
   "execution_count": null,
   "metadata": {},
   "outputs": [],
   "source": [
    "print(*np.argsort(catboost.feature_importances_)[::-1][:10])"
   ]
  },
  {
   "cell_type": "markdown",
   "metadata": {},
   "source": [
    "## Обобщённый AUC"
   ]
  },
  {
   "cell_type": "code",
   "execution_count": null,
   "metadata": {},
   "outputs": [],
   "source": [
    "import random\n",
    "from bisect import bisect_left, bisect_right"
   ]
  },
  {
   "cell_type": "code",
   "execution_count": null,
   "metadata": {},
   "outputs": [],
   "source": [
    "def generate_input(n):\n",
    "    input_array = []\n",
    "    for i in range(n):\n",
    "        input_array.append([str(random.randint(0, 100)), str(random.randint(0, 100))])\n",
    "    with open ('input_f.txt', 'w') as file:\n",
    "        file.write(str(n) + '\\n')\n",
    "        for i in input_array:\n",
    "            file.write(' '.join(i) + '\\n')"
   ]
  },
  {
   "cell_type": "code",
   "execution_count": null,
   "metadata": {},
   "outputs": [],
   "source": [
    "generate_input(10000)"
   ]
  },
  {
   "cell_type": "code",
   "execution_count": null,
   "metadata": {},
   "outputs": [],
   "source": [
    "data = []\n",
    "for _ in range(int(input())):\n",
    "    data.append(list(map(float, input().split())))"
   ]
  },
  {
   "cell_type": "code",
   "execution_count": null,
   "metadata": {
    "scrolled": true
   },
   "outputs": [],
   "source": [
    "%%time\n",
    "with open ('input_f.txt', 'r') as file:\n",
    "    n = file.readline()\n",
    "    t, y = zip(*sorted(tuple(map(float, line.split())) for line in file))\n",
    "y_sorted = sorted(y)"
   ]
  },
  {
   "cell_type": "code",
   "execution_count": null,
   "metadata": {},
   "outputs": [],
   "source": [
    "n = int(n)"
   ]
  },
  {
   "cell_type": "code",
   "execution_count": null,
   "metadata": {},
   "outputs": [],
   "source": [
    "%%time\n",
    "i = n - 1\n",
    "t_sum = 0\n",
    "y_sum = 0\n",
    "while i > 0:\n",
    "    j = i\n",
    "    while j >= 0 and  t[i] == t[j]:\n",
    "        l = bisect_left(y_sorted, y[j])\n",
    "        y_sorted.pop(l)\n",
    "        j -= 1\n",
    "    for k in range(j+1, i+1):\n",
    "        l = bisect_left(y_sorted, y[k])\n",
    "        r = bisect_right(y_sorted, y[k])\n",
    "        y_sum += l + (r - l) / 2\n",
    "        t_sum += j + 1\n",
    "    i = j\n",
    "print(y_sum/t_sum)"
   ]
  },
  {
   "cell_type": "code",
   "execution_count": null,
   "metadata": {
    "scrolled": true
   },
   "outputs": [],
   "source": [
    "bisect_left(y_sorted, y[i])"
   ]
  },
  {
   "cell_type": "code",
   "execution_count": null,
   "metadata": {},
   "outputs": [],
   "source": [
    "y[i]"
   ]
  },
  {
   "cell_type": "code",
   "execution_count": null,
   "metadata": {},
   "outputs": [],
   "source": [
    "y_sorted[-1]"
   ]
  },
  {
   "cell_type": "code",
   "execution_count": null,
   "metadata": {},
   "outputs": [],
   "source": []
  },
  {
   "cell_type": "code",
   "execution_count": null,
   "metadata": {},
   "outputs": [],
   "source": [
    "n = int(input())\n",
    "t, y = zip(*sorted(tuple(map(float, input().split())) for _ in range(n)))\n",
    "y_sorted = sorted(y)\n",
    "i = n - 1\n",
    "t_sum = 0\n",
    "y_sum = 0\n",
    "while i >= 0:\n",
    "    j = i\n",
    "    while t[i] == t[j] and j >= 0:\n",
    "        l = bisect_left(y_sorted, y[j])\n",
    "        y_sorted.pop(l)\n",
    "        j -= 1\n",
    "    for k in range(j+1, i+1):\n",
    "        l = bisect_left(y_sorted, y[k])\n",
    "        r = bisect_right(y_sorted, y[k])\n",
    "        y_sum += l + (r - l) / 2\n",
    "        t_sum += j + 1\n",
    "    i = j\n",
    "print(y_sum/t_sum)"
   ]
  },
  {
   "cell_type": "markdown",
   "metadata": {},
   "source": [
    "## Перестановки"
   ]
  },
  {
   "cell_type": "code",
   "execution_count": null,
   "metadata": {},
   "outputs": [],
   "source": [
    "from scipy.stats import mode\n",
    "from catboost import CatBoostClassifier\n",
    "from sklearn.model_selection import train_test_split\n",
    "from sklearn.metrics import accuracy_score"
   ]
  },
  {
   "cell_type": "code",
   "execution_count": null,
   "metadata": {},
   "outputs": [],
   "source": [
    "test = []\n",
    "with open ('g.in', 'r') as file:\n",
    "    n = file.readline()\n",
    "    for line in file:\n",
    "        test.append(list(map(int, line.split())))"
   ]
  },
  {
   "cell_type": "code",
   "execution_count": null,
   "metadata": {},
   "outputs": [],
   "source": [
    "def RandomPermutation():  \n",
    "    perm = list(range(8))  \n",
    "    random.shuffle(perm)  \n",
    "    return perm  \n",
    " \n",
    "def StupidPermutation():  \n",
    "    partialSums = [0,1,8,35,111,285,  \n",
    "        628,1230,2191,3606,5546,8039,11056,14506,18242,  \n",
    "        22078,25814,29264,32281,34774,36714,38129,39090,  \n",
    "        39692,40035,40209,40285,40312,40319,40320]  \n",
    "    r = random.randint(0, partialSums[-1])  \n",
    "    numInv = 0  \n",
    "    while partialSums[numInv] < r:  \n",
    "        numInv += 1  \n",
    "    perm = list(range(8))  \n",
    "    for step in range(numInv):  \n",
    "        t1 = random.randint(0, 7)  \n",
    "        t2 = random.randint(0, 7)  \n",
    "        perm[t1], perm[t2] = perm[t2], perm[t1]  \n",
    "    return perm"
   ]
  },
  {
   "cell_type": "code",
   "execution_count": null,
   "metadata": {},
   "outputs": [],
   "source": [
    "train = []\n",
    "n_train = 2000\n",
    "for i in range(n_train):\n",
    "    p = random.random()\n",
    "    if p > 0.5:\n",
    "        for j in range(1000):\n",
    "            cur_array = RandomPermutation()\n",
    "            cur_array.append(1)\n",
    "            train.append(cur_array)\n",
    "    else:\n",
    "        for j in range(1000):\n",
    "            cur_array = StupidPermutation()\n",
    "            cur_array.append(0)\n",
    "            train.append(cur_array)\n",
    "train = np.array(train)"
   ]
  },
  {
   "cell_type": "code",
   "execution_count": null,
   "metadata": {},
   "outputs": [],
   "source": [
    "train_mode = []\n",
    "for i in range(n_train):\n",
    "    train_mode.append(mode(train[1000 * i: 1000 * (i+1)], axis = 0)[0][0])"
   ]
  },
  {
   "cell_type": "code",
   "execution_count": null,
   "metadata": {},
   "outputs": [],
   "source": [
    "train = pd.DataFrame(train_mode, columns = list(range(8)) + ['target'])"
   ]
  },
  {
   "cell_type": "code",
   "execution_count": null,
   "metadata": {},
   "outputs": [],
   "source": [
    "train, val = train_test_split(train, test_size = 0.3)"
   ]
  },
  {
   "cell_type": "code",
   "execution_count": null,
   "metadata": {},
   "outputs": [],
   "source": [
    "catboost = CatBoostClassifier()"
   ]
  },
  {
   "cell_type": "code",
   "execution_count": null,
   "metadata": {},
   "outputs": [],
   "source": [
    "catboost.fit(train[range(8)], train['target'])"
   ]
  },
  {
   "cell_type": "code",
   "execution_count": null,
   "metadata": {},
   "outputs": [],
   "source": [
    "accuracy_score(val['target'], catboost.predict(val[range(8)]))"
   ]
  },
  {
   "cell_type": "code",
   "execution_count": null,
   "metadata": {},
   "outputs": [],
   "source": [
    "test_mode = []\n",
    "for i in range(int(n)):\n",
    "    test_mode.append(mode(test[1000 * i: 1000 * (i+1)], axis = 0)[0][0])\n",
    "test = pd.DataFrame(test_mode, columns = range(8))"
   ]
  },
  {
   "cell_type": "code",
   "execution_count": null,
   "metadata": {},
   "outputs": [],
   "source": [
    "predicts = catboost.predict_proba(test)"
   ]
  },
  {
   "cell_type": "code",
   "execution_count": null,
   "metadata": {},
   "outputs": [],
   "source": []
  },
  {
   "cell_type": "code",
   "execution_count": null,
   "metadata": {},
   "outputs": [],
   "source": [
    "sorted_predicts = np.argsort(predicts[:,0])"
   ]
  },
  {
   "cell_type": "code",
   "execution_count": null,
   "metadata": {},
   "outputs": [],
   "source": [
    "with open ('answer_g.txt', 'w') as file:\n",
    "    for i in sorted_predicts:\n",
    "        file.write(str(i))\n",
    "        file.write('\\n')"
   ]
  },
  {
   "cell_type": "code",
   "execution_count": null,
   "metadata": {},
   "outputs": [],
   "source": []
  },
  {
   "cell_type": "code",
   "execution_count": null,
   "metadata": {},
   "outputs": [],
   "source": []
  },
  {
   "cell_type": "code",
   "execution_count": null,
   "metadata": {},
   "outputs": [],
   "source": []
  },
  {
   "cell_type": "code",
   "execution_count": null,
   "metadata": {},
   "outputs": [],
   "source": [
    "with open ('answer_g.txt', 'r') as file:\n",
    "    ans = file.read()"
   ]
  },
  {
   "cell_type": "code",
   "execution_count": null,
   "metadata": {},
   "outputs": [],
   "source": [
    "catboost.predict_proba(test.loc[72].values)"
   ]
  },
  {
   "cell_type": "code",
   "execution_count": null,
   "metadata": {},
   "outputs": [],
   "source": [
    "catboost.predict(test.loc[72].values)"
   ]
  },
  {
   "cell_type": "markdown",
   "metadata": {},
   "source": [
    "## Разминка"
   ]
  },
  {
   "cell_type": "code",
   "execution_count": null,
   "metadata": {},
   "outputs": [],
   "source": [
    "from sklearn.linear_model import LogisticRegression"
   ]
  },
  {
   "cell_type": "code",
   "execution_count": null,
   "metadata": {},
   "outputs": [],
   "source": [
    "train = pd.read_csv('i_train.tsv', sep = '\\t', names = list(range(100)) + ['target'])\n",
    "test = pd.read_csv('i_test.tsv', sep = '\\t', names = range(100))"
   ]
  },
  {
   "cell_type": "code",
   "execution_count": null,
   "metadata": {},
   "outputs": [],
   "source": [
    "train, valid = train_test_split(train, test_size = 0.1)"
   ]
  },
  {
   "cell_type": "code",
   "execution_count": null,
   "metadata": {},
   "outputs": [],
   "source": [
    "logit = CatBoostClassifier()"
   ]
  },
  {
   "cell_type": "code",
   "execution_count": null,
   "metadata": {},
   "outputs": [],
   "source": [
    "logit.fit(train[range(100)], train['target'])"
   ]
  },
  {
   "cell_type": "code",
   "execution_count": null,
   "metadata": {},
   "outputs": [],
   "source": [
    "accuracy_score(valid['target'], logit.predict(valid[range(100)]))"
   ]
  },
  {
   "cell_type": "code",
   "execution_count": null,
   "metadata": {},
   "outputs": [],
   "source": [
    "predicts = logit.predict(test)"
   ]
  },
  {
   "cell_type": "code",
   "execution_count": null,
   "metadata": {},
   "outputs": [],
   "source": [
    "for i in predicts:\n",
    "    print(i)"
   ]
  },
  {
   "cell_type": "markdown",
   "metadata": {},
   "source": [
    "## Линейно разделимая выборка"
   ]
  },
  {
   "cell_type": "code",
   "execution_count": null,
   "metadata": {},
   "outputs": [],
   "source": [
    "n, m = map(int, input().split())\n",
    "data = []\n",
    "for _ in range(n):\n",
    "    data.append(list(map(float, input().split())))"
   ]
  },
  {
   "cell_type": "code",
   "execution_count": null,
   "metadata": {},
   "outputs": [],
   "source": [
    "data = np.array(data)\n",
    "w = np.mean(data[:,:-1], axis = 0)"
   ]
  },
  {
   "cell_type": "code",
   "execution_count": null,
   "metadata": {},
   "outputs": [],
   "source": [
    "k = 0\n",
    "while k != 1:\n",
    "    k = 1\n",
    "    multiplication = np.dot(data[:,:-1], w)\n",
    "    for idx, x in enumerate(data):\n",
    "        if np.dot(x[:-1], w) * x[-1] <= 0:\n",
    "            w += x[:-1] * x[-1]\n",
    "            k = 0"
   ]
  },
  {
   "cell_type": "code",
   "execution_count": null,
   "metadata": {},
   "outputs": [],
   "source": [
    "w"
   ]
  },
  {
   "cell_type": "code",
   "execution_count": null,
   "metadata": {},
   "outputs": [],
   "source": [
    "w = list(map(int, w))\n",
    "w = list(map(str, w))"
   ]
  },
  {
   "cell_type": "code",
   "execution_count": null,
   "metadata": {},
   "outputs": [],
   "source": [
    "w"
   ]
  },
  {
   "cell_type": "markdown",
   "metadata": {},
   "source": [
    "## WiFi"
   ]
  },
  {
   "cell_type": "code",
   "execution_count": null,
   "metadata": {},
   "outputs": [],
   "source": [
    "import torch\n",
    "import torch.nn as nn\n",
    "from unidecode import unidecode\n",
    "import re\n",
    "from sklearn.model_selection import GroupShuffleSplit\n",
    "from catboost import CatBoostClassifier"
   ]
  },
  {
   "cell_type": "code",
   "execution_count": null,
   "metadata": {},
   "outputs": [],
   "source": [
    "test = pd.read_csv('l_test.tsv', sep = '\\t', index_col = 0)\n",
    "train = pd.read_csv('l_train.tsv', sep = '\\t', index_col = 0)"
   ]
  },
  {
   "cell_type": "code",
   "execution_count": null,
   "metadata": {},
   "outputs": [],
   "source": [
    "df = pd.concat((train, test))\n",
    "df['test'] = df.target.isnull()"
   ]
  },
  {
   "cell_type": "code",
   "execution_count": null,
   "metadata": {},
   "outputs": [],
   "source": [
    "df['lat_distance'] = abs(df['lat'] - df['user_lat'])"
   ]
  },
  {
   "cell_type": "code",
   "execution_count": null,
   "metadata": {},
   "outputs": [],
   "source": [
    "df['lon_distance'] = abs(df['lon'] - df['user_lon'])"
   ]
  },
  {
   "cell_type": "code",
   "execution_count": null,
   "metadata": {},
   "outputs": [],
   "source": [
    "df['same_words'] = df.apply(lambda x: same_words(unidecode(x.names), unidecode(x.ssid)), axis = 1)"
   ]
  },
  {
   "cell_type": "code",
   "execution_count": null,
   "metadata": {},
   "outputs": [],
   "source": [
    "for n in range(4,8):\n",
    "    df[f'n_gram_names_{n}'] = df.apply(lambda x: n_grams(unidecode(x.names), unidecode(x.ssid), n), axis = 1)"
   ]
  },
  {
   "cell_type": "code",
   "execution_count": null,
   "metadata": {},
   "outputs": [],
   "source": [
    "for n in range(4,8):\n",
    "    df[f'n_gram_urls_{n}'] = df.apply(lambda x: n_grams(unidecode(x.urls), unidecode(x.ssid), n), axis = 1)"
   ]
  },
  {
   "cell_type": "code",
   "execution_count": null,
   "metadata": {},
   "outputs": [],
   "source": [
    "df = pd.concat([df, pd.get_dummies(df.publishing_status, prefix = 'publish')], axis = 1)"
   ]
  },
  {
   "cell_type": "code",
   "execution_count": null,
   "metadata": {},
   "outputs": [],
   "source": [
    "df.has_wifi.fillna(False, inplace = True)"
   ]
  },
  {
   "cell_type": "code",
   "execution_count": null,
   "metadata": {},
   "outputs": [],
   "source": [
    "def same_words(names, ssids):\n",
    "    count = 0\n",
    "    names = list(set(re.findall(r'\\w+', names.lower())))\n",
    "    ssids = list(set(re.findall(r'\\w+', ssids.lower())))\n",
    "    for name in names:\n",
    "        for ssid in ssids:\n",
    "            if name == ssid:\n",
    "                count +=1\n",
    "    return count / (1 + len(names) * len(ssids))"
   ]
  },
  {
   "cell_type": "code",
   "execution_count": null,
   "metadata": {},
   "outputs": [],
   "source": [
    "def n_grams (names, ssid, n):\n",
    "    count = 0\n",
    "    names = list(set(re.findall(r'\\w+', names.lower())))\n",
    "    for name in names:\n",
    "        for i in range(len(ssid) - n):\n",
    "            if ssid[i: i+ n] in name:\n",
    "                count +=1\n",
    "    return count / (1 + len(names) * len(ssid))"
   ]
  },
  {
   "cell_type": "code",
   "execution_count": null,
   "metadata": {},
   "outputs": [],
   "source": [
    "def n_grams_urls(urls, ssid, n):\n",
    "    count = 0\n",
    "    urls = re.findall(r'http://\\w+', urls)\n",
    "    for url in urls:\n",
    "        for i in range(len(ssid) - n):\n",
    "            if ssid[i:i+n] in url[7:]:\n",
    "                count +=1\n",
    "    return count / (1 + len(urls) * len(ssid))"
   ]
  },
  {
   "cell_type": "code",
   "execution_count": null,
   "metadata": {},
   "outputs": [],
   "source": [
    "def make_predict(df):\n",
    "    group_nums = np.unique(df.group_num)\n",
    "    for group_num in group_nums:\n",
    "        idx_max = np.argmax(df[df.group_num == group_num]['predicts'])\n",
    "        df['predicts'][df.group_num == group_num] = 0\n",
    "        df['predicts'].loc[idx_max] = 1\n",
    "    return df"
   ]
  },
  {
   "cell_type": "code",
   "execution_count": null,
   "metadata": {},
   "outputs": [],
   "source": [
    "def score(df):\n",
    "    true_labels = 0\n",
    "    group_nums = np.unique(df.group_num)\n",
    "    df = make_predict(df)\n",
    "    for group_num in group_nums:\n",
    "        if (df[df.group_num == group_num]['predicts'] == df[df.group_num == group_num]['target']).all():\n",
    "            true_labels += 1\n",
    "    return true_labels / len(group_nums)"
   ]
  },
  {
   "cell_type": "code",
   "execution_count": null,
   "metadata": {},
   "outputs": [],
   "source": [
    "test = df[df.test]"
   ]
  },
  {
   "cell_type": "code",
   "execution_count": null,
   "metadata": {},
   "outputs": [],
   "source": [
    "df = df[~df.test]"
   ]
  },
  {
   "cell_type": "code",
   "execution_count": null,
   "metadata": {},
   "outputs": [],
   "source": [
    "train, val = next(GroupShuffleSplit(2).split(df, groups = df.group_num))"
   ]
  },
  {
   "cell_type": "code",
   "execution_count": null,
   "metadata": {},
   "outputs": [],
   "source": [
    "catboost = CatBoostClassifier()"
   ]
  },
  {
   "cell_type": "code",
   "execution_count": null,
   "metadata": {},
   "outputs": [],
   "source": [
    "train_columns = ['has_wifi', 'lat_distance', 'lon_distance'] + list(filter(lambda x: x[:6] == 'n_gram', df.columns)) + \\\n",
    "    list(filter(lambda x: x[:8] == 'publish_', df.columns))"
   ]
  },
  {
   "cell_type": "code",
   "execution_count": null,
   "metadata": {
    "scrolled": true
   },
   "outputs": [],
   "source": [
    "train_columns"
   ]
  },
  {
   "cell_type": "code",
   "execution_count": null,
   "metadata": {},
   "outputs": [],
   "source": [
    "catboost.fit(df[train_columns].loc[train], df['target'].loc[train])"
   ]
  },
  {
   "cell_type": "code",
   "execution_count": null,
   "metadata": {
    "scrolled": true
   },
   "outputs": [],
   "source": [
    "df['predicts'].loc[val] =  catboost.predict_proba(df.loc[val][train_columns])[:,1]"
   ]
  },
  {
   "cell_type": "code",
   "execution_count": null,
   "metadata": {},
   "outputs": [],
   "source": [
    "score(df.loc[val])"
   ]
  },
  {
   "cell_type": "code",
   "execution_count": null,
   "metadata": {},
   "outputs": [],
   "source": [
    "test['predicts'] = catboost.predict_proba(test[train_columns])[:,1]"
   ]
  },
  {
   "cell_type": "code",
   "execution_count": null,
   "metadata": {
    "scrolled": true
   },
   "outputs": [],
   "source": [
    "make_predict(test)"
   ]
  },
  {
   "cell_type": "code",
   "execution_count": null,
   "metadata": {},
   "outputs": [],
   "source": [
    "with open ('target.tsv', 'w') as file:\n",
    "    for i in range(len(test)):\n",
    "        file.write(str(int(test.predicts.iloc[i])))\n",
    "        file.write('\\n')"
   ]
  },
  {
   "cell_type": "markdown",
   "metadata": {},
   "source": [
    "## Ранжирование по парам"
   ]
  },
  {
   "cell_type": "code",
   "execution_count": null,
   "metadata": {},
   "outputs": [],
   "source": [
    "import numpy as np\n",
    "a = []\n",
    "n, m = map(int, input().split())\n",
    "for _ in range(m):\n",
    "    ai, aj = list(map(int, input().split()))\n",
    "    a.append([ai, aj])\n",
    "a = np.array(a)\n",
    "w = np.ones(n)\n",
    "x = np.zeros((m, n))\n",
    "if m > 1:\n",
    "\tx[np.arange(m), a[:,0] - 1] = 1\n",
    "\tx[np.arange(m), a[:,1] - 1] = -1\n",
    "v = np.zeros_like(w)\n",
    "for _ in range(1000):\n",
    "    h = 1 / (1 + np.exp(-w@x.T))\n",
    "    gradient =  x.T@(h - 1)/m\n",
    "    v = v * 0.9 + gradient * 0.1\n",
    "    w -= v\n",
    "print(*w.argsort()[::-1] + 1)"
   ]
  },
  {
   "cell_type": "markdown",
   "metadata": {},
   "source": [
    "## Монетки"
   ]
  },
  {
   "cell_type": "code",
   "execution_count": null,
   "metadata": {},
   "outputs": [],
   "source": [
    "input_array = []\n",
    "with open ('n.in.txt', 'r') as file:\n",
    "    n = int(file.readline())\n",
    "    for _ in range(n):\n",
    "        input_array.append(list(map(int,file.readline().split())))"
   ]
  },
  {
   "cell_type": "code",
   "execution_count": null,
   "metadata": {},
   "outputs": [],
   "source": [
    "a = list(map(lambda x: (x[1] + 1) /(x[0]  + 2), input_array))"
   ]
  },
  {
   "cell_type": "code",
   "execution_count": null,
   "metadata": {},
   "outputs": [],
   "source": [
    "with open ('ans_n.txt', 'w') as file:\n",
    "    for idx in np.array(a).argsort():\n",
    "        file.write(str(int(idx)))\n",
    "        file.write('\\n')"
   ]
  },
  {
   "cell_type": "markdown",
   "metadata": {},
   "source": [
    "## Рекомендательная система SVD"
   ]
  },
  {
   "cell_type": "code",
   "execution_count": null,
   "metadata": {},
   "outputs": [],
   "source": [
    "import numpy as np\n",
    "k, U, M, D, T = map(int, input().split())"
   ]
  },
  {
   "cell_type": "code",
   "execution_count": null,
   "metadata": {},
   "outputs": [],
   "source": [
    "train = []\n",
    "for _ in range(D):\n",
    "    train.append(list(map(int, input().split())))"
   ]
  },
  {
   "cell_type": "code",
   "execution_count": null,
   "metadata": {
    "scrolled": true
   },
   "outputs": [],
   "source": [
    "test = []\n",
    "for _ in range(T):\n",
    "    test.append(list(map(int, input().split())))"
   ]
  },
  {
   "cell_type": "code",
   "execution_count": null,
   "metadata": {},
   "outputs": [],
   "source": [
    "train = np.array(train)\n",
    "test = np.array(test)"
   ]
  },
  {
   "cell_type": "code",
   "execution_count": null,
   "metadata": {},
   "outputs": [],
   "source": [
    "bu = np.zeros(U)\n",
    "bm = np.zeros(M)"
   ]
  },
  {
   "cell_type": "code",
   "execution_count": null,
   "metadata": {},
   "outputs": [],
   "source": [
    "my = np.mean(train[:, -1])"
   ]
  },
  {
   "cell_type": "code",
   "execution_count": null,
   "metadata": {},
   "outputs": [],
   "source": [
    "d = 10"
   ]
  },
  {
   "cell_type": "code",
   "execution_count": null,
   "metadata": {},
   "outputs": [],
   "source": [
    "pu = np.random.normal(0, 0.1, (d, U))\n",
    "pm = np.random.normal(0, 0.1, (d, M))"
   ]
  },
  {
   "cell_type": "code",
   "execution_count": null,
   "metadata": {},
   "outputs": [],
   "source": [
    "epochs = 10\n",
    "lr = 0.1\n",
    "lamb = 0.1\n",
    "for epoch in range(epochs):\n",
    "    for u, m, r in train:\n",
    "        error = r - (my + bu[u] + bm[m] + pu[u] @ pm[m])\n",
    "        bu[u] += lr * (error - lamb*bu[u])\n",
    "        bm[m] += lr * (error - lamb*bm[m])\n",
    "        pu[u] += lr * (error * pm[m] - lamb*pu[u])\n",
    "        pm[m] += lr * (error * pu[u] - lamb*pm[m])\n",
    "        "
   ]
  },
  {
   "cell_type": "code",
   "execution_count": null,
   "metadata": {},
   "outputs": [],
   "source": [
    "error"
   ]
  },
  {
   "cell_type": "code",
   "execution_count": null,
   "metadata": {},
   "outputs": [],
   "source": [
    "error = 0\n",
    "for u, m, r in train:\n",
    "    error += (r - (my + bu[u] + bm[m] + pu[u] @ pm[m]))**2"
   ]
  },
  {
   "cell_type": "code",
   "execution_count": null,
   "metadata": {},
   "outputs": [],
   "source": [
    "error/k"
   ]
  },
  {
   "cell_type": "markdown",
   "metadata": {},
   "source": [
    "## Атака на классификатор изображений (white box)"
   ]
  },
  {
   "cell_type": "code",
   "execution_count": null,
   "metadata": {},
   "outputs": [],
   "source": [
    "test = pd.read_csv('p_test.tsv', sep = '\\t', names= list(range(3072)) + ['target'])\n",
    "w = np.loadtxt('p_model.tsv')"
   ]
  },
  {
   "cell_type": "code",
   "execution_count": null,
   "metadata": {},
   "outputs": [],
   "source": [
    "test"
   ]
  },
  {
   "cell_type": "code",
   "execution_count": null,
   "metadata": {},
   "outputs": [],
   "source": [
    "def softmax(x):\n",
    "    res = []\n",
    "    sum_exp = np.sum(np.exp(x))\n",
    "    for h in x:\n",
    "        res.append(np.exp(h)/sum_exp)\n",
    "    return res\n",
    "\n",
    "def get_predict(x, clas = None, normalize = False):\n",
    "    if normalize:\n",
    "        x = 0.01 * x - 1.28\n",
    "    else:\n",
    "        x = (x + 1.28) * 100\n",
    "        x = x.astype('uint8')\n",
    "        x = 0.01 * x - 1.28\n",
    "    soft = softmax(w@x)\n",
    "    if clas is not None:\n",
    "        return soft[clas]\n",
    "    return soft"
   ]
  },
  {
   "cell_type": "code",
   "execution_count": null,
   "metadata": {},
   "outputs": [],
   "source": [
    "for i in range(3):\n",
    "    plt.subplot(131 + i)\n",
    "    plt.imshow(test[range(3072)].iloc[i].values.reshape(32, 32, 3))\n",
    "    plt.title(f'target: {test.target.iloc[i]}\\n prob: {get_predict(test[range(3072)].iloc[i].values, test.target.iloc[i]):.4f}',\n",
    "             y = -.6, fontsize = 16)"
   ]
  },
  {
   "cell_type": "code",
   "execution_count": null,
   "metadata": {},
   "outputs": [],
   "source": [
    "get_predict(test[range(3072)].iloc[2].values)"
   ]
  },
  {
   "cell_type": "code",
   "execution_count": null,
   "metadata": {},
   "outputs": [],
   "source": [
    "images = test[range(3072)].values\n",
    "images = 0.01 * images - 1.28 "
   ]
  },
  {
   "cell_type": "code",
   "execution_count": null,
   "metadata": {},
   "outputs": [],
   "source": [
    "def normalize(x):\n",
    "    return 0.01 * x - 1.28\n",
    "def denormalize(x):\n",
    "    return (x + 1.28) * 100\n",
    "epochs = 100000\n",
    "reg = 0.1\n",
    "lr = 0.01\n",
    "target_images = []\n",
    "for n in range(3):\n",
    "    x = copy.copy(images[n])\n",
    "    original = copy.copy(images[n])\n",
    "    target = np.zeros(10)\n",
    "    target[test.iloc[n]['target']] = 1\n",
    "    for _ in range(epochs):\n",
    "        output = get_predict(x, test.iloc[n]['target'])\n",
    "        gradient = reg * (x - original) + w.T @ (output - target)\n",
    "        x -= lr * gradient\n",
    "        x = x.clip(-1.28, 1.27)\n",
    "        p = get_predict(x, test.iloc[n]['target'])\n",
    "        if p >= 0.5:\n",
    "            target_images.append(denormalize(x).astype('uint8'))\n",
    "            print(n)\n",
    "            break"
   ]
  },
  {
   "cell_type": "code",
   "execution_count": null,
   "metadata": {},
   "outputs": [],
   "source": [
    "target_images = np.array(target_images)"
   ]
  },
  {
   "cell_type": "code",
   "execution_count": null,
   "metadata": {},
   "outputs": [],
   "source": [
    "plt.figure(figsize=(7, 7))\n",
    "\n",
    "for i in range(3):\n",
    "    ax = plt.subplot(331 + i)\n",
    "    plt.imshow(denormalize(images[i]).reshape(32, 32, -1).astype('uint8'))\n",
    "    plt.axis('off')\n",
    "    plt.text(0.5, 1.1, f'target class: {test.iloc[i].target}', \n",
    "             fontsize=16, horizontalalignment='center', transform=ax.transAxes)\n",
    "    plt.text(0.5, -0.18, f'prob: {get_predict(images[i], test.iloc[i].target, True):.5f}', \n",
    "             fontsize=16, horizontalalignment='center', fontdict={'color': 'r'}, transform=ax.transAxes)\n",
    "\n",
    "for i in range(3):\n",
    "    ax = plt.subplot(334 + i)\n",
    "    plt.imshow((target_images[i] - denormalize(images[i]) + 128).reshape(32, 32, -1).astype('uint8'))\n",
    "    plt.axis('off')\n",
    "    plt.text(0.5, -0.18, f'MSE: {((target_images[i] - denormalize(images[i])) ** 2).mean():.3f}', \n",
    "             fontsize=16, horizontalalignment='center', transform=ax.transAxes)\n",
    "\n",
    "for i in range(3):\n",
    "    ax = plt.subplot(337 + i)\n",
    "    plt.imshow(target_images[i].reshape(32, 32, -1).astype('uint8'))\n",
    "    plt.axis('off')\n",
    "    plt.text(0.5, -0.18, f'prob: {get_predict(target_images[i], test.iloc[i].target, True):.5f}', \n",
    "             fontsize=16, horizontalalignment='center', fontdict={'color': 'g'}, transform=ax.transAxes)\n",
    "\n",
    "plt.subplots_adjust(left=0.25, hspace=0.6)\n",
    "plt.figtext(0.55, .613, '+', fontsize=32)\n",
    "plt.figtext(0.55, .325, '=', fontsize=32)\n",
    "plt.figtext(0, .78, 'source', fontsize=20)\n",
    "plt.figtext(0, .5, 'perturbation', fontsize=20)\n",
    "plt.figtext(0, .2, 'result', fontsize=20);"
   ]
  },
  {
   "cell_type": "code",
   "execution_count": null,
   "metadata": {},
   "outputs": [],
   "source": [
    "((target_images.astype('uint8') - test[range(3072)].values)**2).mean()"
   ]
  },
  {
   "cell_type": "code",
   "execution_count": null,
   "metadata": {},
   "outputs": [],
   "source": [
    "np.savetxt('ans_p.txt',target_images, '%d')"
   ]
  },
  {
   "cell_type": "markdown",
   "metadata": {},
   "source": [
    "## Атака на классификатор изображений (black box)"
   ]
  },
  {
   "cell_type": "code",
   "execution_count": 136,
   "metadata": {},
   "outputs": [],
   "source": [
    "from interface import BlackBox"
   ]
  },
  {
   "cell_type": "code",
   "execution_count": 137,
   "metadata": {},
   "outputs": [],
   "source": [
    "black_box = BlackBox()"
   ]
  },
  {
   "cell_type": "code",
   "execution_count": 138,
   "metadata": {},
   "outputs": [],
   "source": [
    "df = pd.read_csv('images.tsv', sep = '\\t', names = list(range(3072)) + ['target'])"
   ]
  },
  {
   "cell_type": "code",
   "execution_count": 139,
   "metadata": {},
   "outputs": [],
   "source": [
    "image = df[range(3072)].values[0]"
   ]
  },
  {
   "cell_type": "code",
   "execution_count": 308,
   "metadata": {},
   "outputs": [
    {
     "data": {
      "text/plain": [
       "array([3042,  358,  735, 1115,  492, 2944, 3014, 2262, 2785, 1420, 2665,\n",
       "        294, 2944,  149, 1380, 1613,  555, 1025, 2125, 1087, 2182, 1947,\n",
       "        895, 2157, 1496,  419, 1916, 1825,  895, 2356, 1050, 3060, 2192,\n",
       "       2281, 2968,  170, 1734,  627, 1709, 1569, 2558, 2887, 1380,  948,\n",
       "        858, 1867, 1735, 2443, 1781,  568])"
      ]
     },
     "execution_count": 308,
     "metadata": {},
     "output_type": "execute_result"
    }
   ],
   "source": [
    "np.random.choice(list(range(3072)), 50)"
   ]
  },
  {
   "cell_type": "code",
   "execution_count": 347,
   "metadata": {},
   "outputs": [],
   "source": [
    "def get_gradient(x):\n",
    "    gradient = np.zeros_like(x).astype(float)\n",
    "    for i in range(n_iter):\n",
    "        d = np.random.normal(0, 1, x.shape)\n",
    "        dx = np.zeros_like(x).astype(float)\n",
    "        idx = np.random.choice(list(range(3072)), n)\n",
    "        dx[idx] = d[idx]\n",
    "        gradient += (1 - black_box.calc(x + sigma * dx)) * dx\n",
    "        gradient -= (1 - black_box.calc(x - sigma * dx)) * dx\n",
    "        \n",
    "    return gradient * n / (2 * sigma) "
   ]
  },
  {
   "cell_type": "code",
   "execution_count": 354,
   "metadata": {},
   "outputs": [
    {
     "name": "stdout",
     "output_type": "stream",
     "text": [
      "mse: 831.5352491470621\n",
      "target: 0.4993543936471508\n",
      "Wall time: 7min 19s\n"
     ]
    }
   ],
   "source": [
    "%%time\n",
    "epochs = 10000\n",
    "target_array = []\n",
    "lr = 10\n",
    "sigma = 0.1\n",
    "reg = 0.0005\n",
    "n = 150\n",
    "n_iter = 50\n",
    "x = np.array(image).astype(float)\n",
    "original_image = np.array(image)\n",
    "previous_target = 0\n",
    "for epoch in range(epochs):\n",
    "    if previous_target >= 0.5:\n",
    "        break\n",
    "    previous_target = black_box.calc(x)\n",
    "    target_array.append(previous_target)\n",
    "    gradient = np.array(get_gradient(x))\n",
    "    gradient += reg * (x - original_image) / x.shape[0] \n",
    "    x -= lr * gradient / np.linalg.norm(gradient)\n",
    "    mse = ((original_image - x) ** 2).mean()\n",
    "    if epoch % 10 == 0:\n",
    "        clear_output()\n",
    "        print(f'mse: {mse}')\n",
    "        print(f'target: {previous_target}')"
   ]
  },
  {
   "cell_type": "code",
   "execution_count": 355,
   "metadata": {
    "scrolled": true
   },
   "outputs": [
    {
     "data": {
      "text/plain": [
       "[<matplotlib.lines.Line2D at 0x2013ce1ecc8>]"
      ]
     },
     "execution_count": 355,
     "metadata": {},
     "output_type": "execute_result"
    },
    {
     "data": {
      "image/png": "[encoded data removed]",
      "text/plain": [
       "<Figure size 432x288 with 1 Axes>"
      ]
     },
     "metadata": {
      "needs_background": "light"
     },
     "output_type": "display_data"
    }
   ],
   "source": [
    "plt.plot(target_array)"
   ]
  },
  {
   "cell_type": "code",
   "execution_count": 356,
   "metadata": {},
   "outputs": [
    {
     "name": "stderr",
     "output_type": "stream",
     "text": [
      "Clipping input data to the valid range for imshow with RGB data ([0..1] for floats or [0..255] for integers).\n"
     ]
    },
    {
     "data": {
      "text/plain": [
       "<matplotlib.image.AxesImage at 0x2013ce82f88>"
      ]
     },
     "execution_count": 356,
     "metadata": {},
     "output_type": "execute_result"
    },
    {
     "data": {
      "image/png": "[encoded data removed]",
      "text/plain": [
       "<Figure size 432x288 with 1 Axes>"
      ]
     },
     "metadata": {
      "needs_background": "light"
     },
     "output_type": "display_data"
    }
   ],
   "source": [
    "plt.imshow(x.reshape(32,32,-1).astype(int))"
   ]
  }
 ],
 "metadata": {
  "kernelspec": {
   "display_name": "Python 3",
   "language": "python",
   "name": "python3"
  },
  "language_info": {
   "codemirror_mode": {
    "name": "ipython",
    "version": 3
   },
   "file_extension": ".py",
   "mimetype": "text/x-python",
   "name": "python",
   "nbconvert_exporter": "python",
   "pygments_lexer": "ipython3",
   "version": "3.7.4"
  }
 },
 "nbformat": 4,
 "nbformat_minor": 2
}
